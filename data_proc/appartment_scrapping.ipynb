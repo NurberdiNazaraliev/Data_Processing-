{
 "cells": [
  {
   "cell_type": "code",
   "execution_count": 1,
   "id": "37acc032",
   "metadata": {},
   "outputs": [],
   "source": [
    "import pandas as pd\n",
    "from bs4 import BeautifulSoup\n",
    "import requests"
   ]
  },
  {
   "cell_type": "code",
   "execution_count": 7,
   "id": "2dba47cb",
   "metadata": {},
   "outputs": [],
   "source": [
    "number_of_rooms = []\n",
    "type_of_house = []\n",
    "area  = []\n",
    "floor  = []\n",
    "city  = []\n",
    "price_USD  = []\n",
    "price_SOM  = []\n",
    "price_for_m2_usd= []\n",
    "price_for_m2_som= []\n",
    "viewers= []\n",
    "rayon= []"
   ]
  },
  {
   "cell_type": "code",
   "execution_count": 10,
   "id": "02ae447f",
   "metadata": {},
   "outputs": [],
   "source": [
    "for n in range(5, 25):\n",
    "    html_text = requests.get(f'https://www.house.kg/kupit-kvartiru?page= {n}').text\n",
    "    soup = BeautifulSoup(html_text, 'lxml')\n",
    "    sales= soup.find_all('div', class_ = 'listing')\n",
    "    for info in sales: \n",
    "        number_of_rooms.append(info.find('p', class_ = 'title').text.replace(' ', '').replace('\\n', '').split('.')[0].split('-')[0])\n",
    "        type_of_house.append(info.find('p', class_ = 'title').text.replace(' ', '').replace('\\n', '').split('.')[1])\n",
    "        area.append(info.find('p', class_ = 'title').text.replace(' ', '').replace('\\n', '').split(',')[1].split('м')[0])\n",
    "        floor.append(info.find('p', class_ = 'title').text.replace(' ', '').replace('\\n', '').split(',')[2].split('э')[0])\n",
    "        city.append(info.find('div', class_ = 'address').text.replace(' ', '').replace('\\n', '').split(',')[0])\n",
    "        price_for_m2_usd.append(info.find('div', class_ = 'sep addit').text.replace(' ', '').replace('\\n', '').split(\"$\")[1].split('/')[0])\n",
    "        price_for_m2_som.append(info.find('div', class_ = 'sep addit').text.replace(' ', '').replace('\\n', '').split('м')[1].split('с')[0])\n",
    "        price_USD.append(info.find('div', class_ = 'price').text.replace(' ', '').replace('\\n', '').split('$')[1])\n",
    "        price_SOM.append(info.find('div', class_ = 'price-addition').text.replace(' ', '').replace('\\n', '').split('с')[0])\n",
    "        if len(info.find('div', class_ = 'additional-info').text.replace(' ', '').replace('\\n', '').split('д')) == 3:\n",
    "            viewers.append(info.find('div', class_ = 'additional-info').text.replace(' ', '').replace('\\n', '').split('д')[2])\n",
    "        else:\n",
    "            viewers.append(info.find('div', class_ = 'additional-info').text.replace(' ', '').replace('\\n', '').split('д')[1])\n",
    "        \n",
    "        "
   ]
  },
  {
   "cell_type": "code",
   "execution_count": 11,
   "id": "30665001",
   "metadata": {},
   "outputs": [],
   "source": [
    "df = pd.DataFrame(list(zip(number_of_rooms,type_of_house,area,floor,city,price_for_m2_usd,price_for_m2_som,price_USD,price_SOM,viewers)),\n",
    "               columns =['Room N', 'Type','Area', 'Floor','City', 'Price for m2 US','Price for m2 SOM','Price USD','Price SOM', 'Views'])"
   ]
  },
  {
   "cell_type": "code",
   "execution_count": 12,
   "id": "0d72d769",
   "metadata": {},
   "outputs": [
    {
     "data": {
      "text/html": [
       "<div>\n",
       "<style scoped>\n",
       "    .dataframe tbody tr th:only-of-type {\n",
       "        vertical-align: middle;\n",
       "    }\n",
       "\n",
       "    .dataframe tbody tr th {\n",
       "        vertical-align: top;\n",
       "    }\n",
       "\n",
       "    .dataframe thead th {\n",
       "        text-align: right;\n",
       "    }\n",
       "</style>\n",
       "<table border=\"1\" class=\"dataframe\">\n",
       "  <thead>\n",
       "    <tr style=\"text-align: right;\">\n",
       "      <th></th>\n",
       "      <th>Room N</th>\n",
       "      <th>Type</th>\n",
       "      <th>Area</th>\n",
       "      <th>Floor</th>\n",
       "      <th>City</th>\n",
       "      <th>Price for m2 US</th>\n",
       "      <th>Price for m2 SOM</th>\n",
       "      <th>Price USD</th>\n",
       "      <th>Price SOM</th>\n",
       "      <th>Views</th>\n",
       "    </tr>\n",
       "  </thead>\n",
       "  <tbody>\n",
       "    <tr>\n",
       "      <th>0</th>\n",
       "      <td>3</td>\n",
       "      <td>кв</td>\n",
       "      <td>83</td>\n",
       "      <td>5</td>\n",
       "      <td>Бишкек</td>\n",
       "      <td>849</td>\n",
       "      <td>272028</td>\n",
       "      <td>70500</td>\n",
       "      <td>5978344</td>\n",
       "      <td>233</td>\n",
       "    </tr>\n",
       "    <tr>\n",
       "      <th>1</th>\n",
       "      <td>1</td>\n",
       "      <td>кв</td>\n",
       "      <td>48</td>\n",
       "      <td>9</td>\n",
       "      <td>Бишкек</td>\n",
       "      <td>760</td>\n",
       "      <td>244166</td>\n",
       "      <td>25000</td>\n",
       "      <td>2119980</td>\n",
       "      <td>189</td>\n",
       "    </tr>\n",
       "    <tr>\n",
       "      <th>2</th>\n",
       "      <td>2</td>\n",
       "      <td>кв</td>\n",
       "      <td>53</td>\n",
       "      <td>5</td>\n",
       "      <td>Бишкек</td>\n",
       "      <td>631</td>\n",
       "      <td>257599</td>\n",
       "      <td>36000</td>\n",
       "      <td>3052771</td>\n",
       "      <td>57</td>\n",
       "    </tr>\n",
       "    <tr>\n",
       "      <th>3</th>\n",
       "      <td>2</td>\n",
       "      <td>кв</td>\n",
       "      <td>43</td>\n",
       "      <td>4</td>\n",
       "      <td>Бишкек</td>\n",
       "      <td>863</td>\n",
       "      <td>268037</td>\n",
       "      <td>34500</td>\n",
       "      <td>2925572</td>\n",
       "      <td>68</td>\n",
       "    </tr>\n",
       "    <tr>\n",
       "      <th>4</th>\n",
       "      <td>2</td>\n",
       "      <td>кв</td>\n",
       "      <td>43</td>\n",
       "      <td>4</td>\n",
       "      <td>Бишкек</td>\n",
       "      <td>907</td>\n",
       "      <td>271981</td>\n",
       "      <td>36500</td>\n",
       "      <td>3095171</td>\n",
       "      <td>324</td>\n",
       "    </tr>\n",
       "    <tr>\n",
       "      <th>...</th>\n",
       "      <td>...</td>\n",
       "      <td>...</td>\n",
       "      <td>...</td>\n",
       "      <td>...</td>\n",
       "      <td>...</td>\n",
       "      <td>...</td>\n",
       "      <td>...</td>\n",
       "      <td>...</td>\n",
       "      <td>...</td>\n",
       "      <td>...</td>\n",
       "    </tr>\n",
       "    <tr>\n",
       "      <th>195</th>\n",
       "      <td>3</td>\n",
       "      <td>кв</td>\n",
       "      <td>102.5</td>\n",
       "      <td>5</td>\n",
       "      <td>Бишкек</td>\n",
       "      <td>786</td>\n",
       "      <td>261055</td>\n",
       "      <td>73800</td>\n",
       "      <td>6258181</td>\n",
       "      <td>141</td>\n",
       "    </tr>\n",
       "    <tr>\n",
       "      <th>196</th>\n",
       "      <td>2</td>\n",
       "      <td>кв</td>\n",
       "      <td>76</td>\n",
       "      <td>2</td>\n",
       "      <td>Бишкек</td>\n",
       "      <td>759</td>\n",
       "      <td>239856</td>\n",
       "      <td>35720</td>\n",
       "      <td>3029027</td>\n",
       "      <td>151</td>\n",
       "    </tr>\n",
       "    <tr>\n",
       "      <th>197</th>\n",
       "      <td>2</td>\n",
       "      <td>кв</td>\n",
       "      <td>67</td>\n",
       "      <td>9</td>\n",
       "      <td>Бишкек</td>\n",
       "      <td>880</td>\n",
       "      <td>274674</td>\n",
       "      <td>59000</td>\n",
       "      <td>5003153</td>\n",
       "      <td>117</td>\n",
       "    </tr>\n",
       "    <tr>\n",
       "      <th>198</th>\n",
       "      <td>1</td>\n",
       "      <td>кв</td>\n",
       "      <td>44</td>\n",
       "      <td>6</td>\n",
       "      <td>Бишкек</td>\n",
       "      <td>771</td>\n",
       "      <td>238545</td>\n",
       "      <td>20000</td>\n",
       "      <td>1695984</td>\n",
       "      <td>250</td>\n",
       "    </tr>\n",
       "    <tr>\n",
       "      <th>199</th>\n",
       "      <td>3</td>\n",
       "      <td>кв</td>\n",
       "      <td>74</td>\n",
       "      <td>5</td>\n",
       "      <td>Бишкек</td>\n",
       "      <td>1099</td>\n",
       "      <td>267610</td>\n",
       "      <td>59000</td>\n",
       "      <td>5003153</td>\n",
       "      <td>99</td>\n",
       "    </tr>\n",
       "  </tbody>\n",
       "</table>\n",
       "<p>200 rows × 10 columns</p>\n",
       "</div>"
      ],
      "text/plain": [
       "    Room N Type   Area Floor    City Price for m2 US Price for m2 SOM  \\\n",
       "0        3   кв     83     5  Бишкек             849           272028   \n",
       "1        1   кв     48     9  Бишкек             760           244166   \n",
       "2        2   кв     53     5  Бишкек             631           257599   \n",
       "3        2   кв     43     4  Бишкек             863           268037   \n",
       "4        2   кв     43     4  Бишкек             907           271981   \n",
       "..     ...  ...    ...   ...     ...             ...              ...   \n",
       "195      3   кв  102.5     5  Бишкек             786           261055   \n",
       "196      2   кв     76     2  Бишкек             759           239856   \n",
       "197      2   кв     67     9  Бишкек             880           274674   \n",
       "198      1   кв     44     6  Бишкек             771           238545   \n",
       "199      3   кв     74     5  Бишкек            1099           267610   \n",
       "\n",
       "    Price USD Price SOM Views  \n",
       "0       70500   5978344   233  \n",
       "1       25000   2119980   189  \n",
       "2       36000   3052771    57  \n",
       "3       34500   2925572    68  \n",
       "4       36500   3095171   324  \n",
       "..        ...       ...   ...  \n",
       "195     73800   6258181   141  \n",
       "196     35720   3029027   151  \n",
       "197     59000   5003153   117  \n",
       "198     20000   1695984   250  \n",
       "199     59000   5003153    99  \n",
       "\n",
       "[200 rows x 10 columns]"
      ]
     },
     "execution_count": 12,
     "metadata": {},
     "output_type": "execute_result"
    }
   ],
   "source": [
    "df"
   ]
  },
  {
   "cell_type": "code",
   "execution_count": null,
   "id": "6d8cbdd1",
   "metadata": {},
   "outputs": [],
   "source": []
  },
  {
   "cell_type": "code",
   "execution_count": 13,
   "id": "28995c59",
   "metadata": {},
   "outputs": [],
   "source": [
    "for n in range(0, 16):\n",
    "    html_text = requests.get(f'https://www.house.kg/kupit-kvartiru?region=6&town=36&sort_by=upped_at+desc&page= {n}').text\n",
    "    soup = BeautifulSoup(html_text, 'lxml')\n",
    "    sales= soup.find_all('div', class_ = 'listing')\n",
    "    for info in sales: \n",
    "        number_of_rooms.append(info.find('p', class_ = 'title').text.replace(' ', '').replace('\\n', '').split('.')[0].split('-')[0])\n",
    "        type_of_house.append(info.find('p', class_ = 'title').text.replace(' ', '').replace('\\n', '').split('.')[1])\n",
    "        area.append(info.find('p', class_ = 'title').text.replace(' ', '').replace('\\n', '').split(',')[1].split('м')[0])\n",
    "        floor.append(info.find('p', class_ = 'title').text.replace(' ', '').replace('\\n', '').split(',')[2].split('э')[0])\n",
    "        city.append(info.find('div', class_ = 'address').text.replace(' ', '').replace('\\n', '').split(',')[0])\n",
    "        price_for_m2_usd.append(info.find('div', class_ = 'sep addit').text.replace(' ', '').replace('\\n', '').split('$')[1].split('/')[0])\n",
    "        price_for_m2_som.append(info.find('div', class_ = 'sep addit').text.replace(' ', '').replace('\\n', '').split('м')[1].split('с')[0])\n",
    "        price_USD.append(info.find('div', class_ = 'price').text.replace(' ', '').replace('\\n', '').split('$')[1])\n",
    "        price_SOM.append(info.find('div', class_ = 'price-addition').text.replace(' ', '').replace('\\n', '').split('с')[0])\n",
    "        if len(info.find('div', class_ = 'additional-info').text.replace(' ', '').replace('\\n', '').split('д')) == 3:\n",
    "            viewers.append(info.find('div', class_ = 'additional-info').text.replace(' ', '').replace('\\n', '').split('д')[2])\n",
    "        else:\n",
    "            viewers.append(info.find('div', class_ = 'additional-info').text.replace(' ', '').replace('\\n', '').split('д')[1])\n",
    "        \n",
    "        "
   ]
  },
  {
   "cell_type": "code",
   "execution_count": 14,
   "id": "166444c5",
   "metadata": {},
   "outputs": [],
   "source": [
    "df1 = pd.DataFrame(list(zip(number_of_rooms,type_of_house,area,floor,city,price_for_m2_usd,price_for_m2_som,price_USD,price_SOM,viewers)),\n",
    "               columns =['Room N', 'Type','Area', 'Floor','City', 'Price for m2 US','Price for m2 SOM','Price USD','Price SOM', 'Views'])"
   ]
  },
  {
   "cell_type": "code",
   "execution_count": 15,
   "id": "3f334ebf",
   "metadata": {},
   "outputs": [
    {
     "data": {
      "text/html": [
       "<div>\n",
       "<style scoped>\n",
       "    .dataframe tbody tr th:only-of-type {\n",
       "        vertical-align: middle;\n",
       "    }\n",
       "\n",
       "    .dataframe tbody tr th {\n",
       "        vertical-align: top;\n",
       "    }\n",
       "\n",
       "    .dataframe thead th {\n",
       "        text-align: right;\n",
       "    }\n",
       "</style>\n",
       "<table border=\"1\" class=\"dataframe\">\n",
       "  <thead>\n",
       "    <tr style=\"text-align: right;\">\n",
       "      <th></th>\n",
       "      <th>Room N</th>\n",
       "      <th>Type</th>\n",
       "      <th>Area</th>\n",
       "      <th>Floor</th>\n",
       "      <th>City</th>\n",
       "      <th>Price for m2 US</th>\n",
       "      <th>Price for m2 SOM</th>\n",
       "      <th>Price USD</th>\n",
       "      <th>Price SOM</th>\n",
       "      <th>Views</th>\n",
       "    </tr>\n",
       "  </thead>\n",
       "  <tbody>\n",
       "    <tr>\n",
       "      <th>0</th>\n",
       "      <td>3</td>\n",
       "      <td>кв</td>\n",
       "      <td>83</td>\n",
       "      <td>5</td>\n",
       "      <td>Бишкек</td>\n",
       "      <td>849</td>\n",
       "      <td>272028</td>\n",
       "      <td>70500</td>\n",
       "      <td>5978344</td>\n",
       "      <td>233</td>\n",
       "    </tr>\n",
       "    <tr>\n",
       "      <th>1</th>\n",
       "      <td>1</td>\n",
       "      <td>кв</td>\n",
       "      <td>48</td>\n",
       "      <td>9</td>\n",
       "      <td>Бишкек</td>\n",
       "      <td>760</td>\n",
       "      <td>244166</td>\n",
       "      <td>25000</td>\n",
       "      <td>2119980</td>\n",
       "      <td>189</td>\n",
       "    </tr>\n",
       "    <tr>\n",
       "      <th>2</th>\n",
       "      <td>2</td>\n",
       "      <td>кв</td>\n",
       "      <td>53</td>\n",
       "      <td>5</td>\n",
       "      <td>Бишкек</td>\n",
       "      <td>631</td>\n",
       "      <td>257599</td>\n",
       "      <td>36000</td>\n",
       "      <td>3052771</td>\n",
       "      <td>57</td>\n",
       "    </tr>\n",
       "    <tr>\n",
       "      <th>3</th>\n",
       "      <td>2</td>\n",
       "      <td>кв</td>\n",
       "      <td>43</td>\n",
       "      <td>4</td>\n",
       "      <td>Бишкек</td>\n",
       "      <td>863</td>\n",
       "      <td>268037</td>\n",
       "      <td>34500</td>\n",
       "      <td>2925572</td>\n",
       "      <td>68</td>\n",
       "    </tr>\n",
       "    <tr>\n",
       "      <th>4</th>\n",
       "      <td>2</td>\n",
       "      <td>кв</td>\n",
       "      <td>43</td>\n",
       "      <td>4</td>\n",
       "      <td>Бишкек</td>\n",
       "      <td>907</td>\n",
       "      <td>271981</td>\n",
       "      <td>36500</td>\n",
       "      <td>3095171</td>\n",
       "      <td>324</td>\n",
       "    </tr>\n",
       "    <tr>\n",
       "      <th>...</th>\n",
       "      <td>...</td>\n",
       "      <td>...</td>\n",
       "      <td>...</td>\n",
       "      <td>...</td>\n",
       "      <td>...</td>\n",
       "      <td>...</td>\n",
       "      <td>...</td>\n",
       "      <td>...</td>\n",
       "      <td>...</td>\n",
       "      <td>...</td>\n",
       "    </tr>\n",
       "    <tr>\n",
       "      <th>355</th>\n",
       "      <td>3</td>\n",
       "      <td>кв</td>\n",
       "      <td>70</td>\n",
       "      <td>4</td>\n",
       "      <td>Ош</td>\n",
       "      <td>526</td>\n",
       "      <td>266628</td>\n",
       "      <td>55000</td>\n",
       "      <td>4663956</td>\n",
       "      <td>428</td>\n",
       "    </tr>\n",
       "    <tr>\n",
       "      <th>356</th>\n",
       "      <td>3</td>\n",
       "      <td>кв</td>\n",
       "      <td>92</td>\n",
       "      <td>5</td>\n",
       "      <td>Ош</td>\n",
       "      <td>558</td>\n",
       "      <td>239856</td>\n",
       "      <td>43240</td>\n",
       "      <td>3666717</td>\n",
       "      <td>355</td>\n",
       "    </tr>\n",
       "    <tr>\n",
       "      <th>357</th>\n",
       "      <td>3</td>\n",
       "      <td>кв</td>\n",
       "      <td>102</td>\n",
       "      <td>8</td>\n",
       "      <td>Ош</td>\n",
       "      <td>549</td>\n",
       "      <td>247385</td>\n",
       "      <td>57000</td>\n",
       "      <td>4833269</td>\n",
       "      <td>975</td>\n",
       "    </tr>\n",
       "    <tr>\n",
       "      <th>358</th>\n",
       "      <td>3</td>\n",
       "      <td>кв</td>\n",
       "      <td>60</td>\n",
       "      <td>2</td>\n",
       "      <td>Ош</td>\n",
       "      <td>850</td>\n",
       "      <td>250880</td>\n",
       "      <td>36000</td>\n",
       "      <td>3052771</td>\n",
       "      <td>592</td>\n",
       "    </tr>\n",
       "    <tr>\n",
       "      <th>359</th>\n",
       "      <td>3</td>\n",
       "      <td>кв</td>\n",
       "      <td>83</td>\n",
       "      <td>5</td>\n",
       "      <td>Ош</td>\n",
       "      <td>451</td>\n",
       "      <td>254149</td>\n",
       "      <td>53000</td>\n",
       "      <td>4494358</td>\n",
       "      <td>657</td>\n",
       "    </tr>\n",
       "  </tbody>\n",
       "</table>\n",
       "<p>360 rows × 10 columns</p>\n",
       "</div>"
      ],
      "text/plain": [
       "    Room N Type Area Floor    City Price for m2 US Price for m2 SOM Price USD  \\\n",
       "0        3   кв   83     5  Бишкек             849           272028     70500   \n",
       "1        1   кв   48     9  Бишкек             760           244166     25000   \n",
       "2        2   кв   53     5  Бишкек             631           257599     36000   \n",
       "3        2   кв   43     4  Бишкек             863           268037     34500   \n",
       "4        2   кв   43     4  Бишкек             907           271981     36500   \n",
       "..     ...  ...  ...   ...     ...             ...              ...       ...   \n",
       "355      3   кв   70     4      Ош             526           266628     55000   \n",
       "356      3   кв   92     5      Ош             558           239856     43240   \n",
       "357      3   кв  102     8      Ош             549           247385     57000   \n",
       "358      3   кв   60     2      Ош             850           250880     36000   \n",
       "359      3   кв   83     5      Ош             451           254149     53000   \n",
       "\n",
       "    Price SOM Views  \n",
       "0     5978344   233  \n",
       "1     2119980   189  \n",
       "2     3052771    57  \n",
       "3     2925572    68  \n",
       "4     3095171   324  \n",
       "..        ...   ...  \n",
       "355   4663956   428  \n",
       "356   3666717   355  \n",
       "357   4833269   975  \n",
       "358   3052771   592  \n",
       "359   4494358   657  \n",
       "\n",
       "[360 rows x 10 columns]"
      ]
     },
     "execution_count": 15,
     "metadata": {},
     "output_type": "execute_result"
    }
   ],
   "source": [
    "df1"
   ]
  },
  {
   "cell_type": "code",
   "execution_count": 16,
   "id": "e128857c",
   "metadata": {},
   "outputs": [],
   "source": [
    "for n in range(0, 2):\n",
    "    html_text = requests.get(f'https://www.house.kg/kupit-kvartiru?region=1&town=5&sort_by=upped_at+desc&page= {n}').text\n",
    "    soup = BeautifulSoup(html_text, 'lxml')\n",
    "    sales= soup.find_all('div', class_ = 'listing')\n",
    "    for info in sales: \n",
    "        number_of_rooms.append(info.find('p', class_ = 'title').text.replace(' ', '').replace('\\n', '').split('.')[0].split('-')[0])\n",
    "        type_of_house.append(info.find('p', class_ = 'title').text.replace(' ', '').replace('\\n', '').split('.')[1])\n",
    "        area.append(info.find('p', class_ = 'title').text.replace(' ', '').replace('\\n', '').split(',')[1].split('м')[0])\n",
    "        floor.append(info.find('p', class_ = 'title').text.replace(' ', '').replace('\\n', '').split(',')[2].split('э')[0])\n",
    "        city.append(info.find('div', class_ = 'address').text.replace(' ', '').replace('\\n', '').split(',')[0])\n",
    "        price_for_m2_usd.append(info.find('div', class_ = 'sep addit').text.replace(' ', '').replace('\\n', '').split('$')[1].split('/')[0])\n",
    "        price_for_m2_som.append(info.find('div', class_ = 'sep addit').text.replace(' ', '').replace('\\n', '').split('м')[1].split('с')[0])\n",
    "        price_USD.append(info.find('div', class_ = 'price').text.replace(' ', '').replace('\\n', '').split('$')[1])\n",
    "        price_SOM.append(info.find('div', class_ = 'price-addition').text.replace(' ', '').replace('\\n', '').split('с')[0])\n",
    "        if len(info.find('div', class_ = 'additional-info').text.replace(' ', '').replace('\\n', '').split('д')) == 3:\n",
    "            viewers.append(info.find('div', class_ = 'additional-info').text.replace(' ', '').replace('\\n', '').split('д')[2])\n",
    "        else:\n",
    "            viewers.append(info.find('div', class_ = 'additional-info').text.replace(' ', '').replace('\\n', '').split('д')[1])\n",
    "        \n",
    "        "
   ]
  },
  {
   "cell_type": "code",
   "execution_count": 17,
   "id": "5d48aaed",
   "metadata": {},
   "outputs": [],
   "source": [
    "df2 = pd.DataFrame(list(zip(number_of_rooms,type_of_house,area,floor,city,price_for_m2_usd,price_for_m2_som,price_USD,price_SOM,viewers)),\n",
    "               columns =['Room N', 'Type','Area', 'Floor','City', 'Price for m2 US','Price for m2 SOM','Price USD','Price SOM', 'Views'])"
   ]
  },
  {
   "cell_type": "code",
   "execution_count": 18,
   "id": "6aa166ea",
   "metadata": {},
   "outputs": [
    {
     "data": {
      "text/html": [
       "<div>\n",
       "<style scoped>\n",
       "    .dataframe tbody tr th:only-of-type {\n",
       "        vertical-align: middle;\n",
       "    }\n",
       "\n",
       "    .dataframe tbody tr th {\n",
       "        vertical-align: top;\n",
       "    }\n",
       "\n",
       "    .dataframe thead th {\n",
       "        text-align: right;\n",
       "    }\n",
       "</style>\n",
       "<table border=\"1\" class=\"dataframe\">\n",
       "  <thead>\n",
       "    <tr style=\"text-align: right;\">\n",
       "      <th></th>\n",
       "      <th>Room N</th>\n",
       "      <th>Type</th>\n",
       "      <th>Area</th>\n",
       "      <th>Floor</th>\n",
       "      <th>City</th>\n",
       "      <th>Price for m2 US</th>\n",
       "      <th>Price for m2 SOM</th>\n",
       "      <th>Price USD</th>\n",
       "      <th>Price SOM</th>\n",
       "      <th>Views</th>\n",
       "    </tr>\n",
       "  </thead>\n",
       "  <tbody>\n",
       "    <tr>\n",
       "      <th>0</th>\n",
       "      <td>3</td>\n",
       "      <td>кв</td>\n",
       "      <td>83</td>\n",
       "      <td>5</td>\n",
       "      <td>Бишкек</td>\n",
       "      <td>849</td>\n",
       "      <td>272028</td>\n",
       "      <td>70500</td>\n",
       "      <td>5978344</td>\n",
       "      <td>233</td>\n",
       "    </tr>\n",
       "    <tr>\n",
       "      <th>1</th>\n",
       "      <td>1</td>\n",
       "      <td>кв</td>\n",
       "      <td>48</td>\n",
       "      <td>9</td>\n",
       "      <td>Бишкек</td>\n",
       "      <td>760</td>\n",
       "      <td>244166</td>\n",
       "      <td>25000</td>\n",
       "      <td>2119980</td>\n",
       "      <td>189</td>\n",
       "    </tr>\n",
       "    <tr>\n",
       "      <th>2</th>\n",
       "      <td>2</td>\n",
       "      <td>кв</td>\n",
       "      <td>53</td>\n",
       "      <td>5</td>\n",
       "      <td>Бишкек</td>\n",
       "      <td>631</td>\n",
       "      <td>257599</td>\n",
       "      <td>36000</td>\n",
       "      <td>3052771</td>\n",
       "      <td>57</td>\n",
       "    </tr>\n",
       "    <tr>\n",
       "      <th>3</th>\n",
       "      <td>2</td>\n",
       "      <td>кв</td>\n",
       "      <td>43</td>\n",
       "      <td>4</td>\n",
       "      <td>Бишкек</td>\n",
       "      <td>863</td>\n",
       "      <td>268037</td>\n",
       "      <td>34500</td>\n",
       "      <td>2925572</td>\n",
       "      <td>68</td>\n",
       "    </tr>\n",
       "    <tr>\n",
       "      <th>4</th>\n",
       "      <td>2</td>\n",
       "      <td>кв</td>\n",
       "      <td>43</td>\n",
       "      <td>4</td>\n",
       "      <td>Бишкек</td>\n",
       "      <td>907</td>\n",
       "      <td>271981</td>\n",
       "      <td>36500</td>\n",
       "      <td>3095171</td>\n",
       "      <td>324</td>\n",
       "    </tr>\n",
       "    <tr>\n",
       "      <th>...</th>\n",
       "      <td>...</td>\n",
       "      <td>...</td>\n",
       "      <td>...</td>\n",
       "      <td>...</td>\n",
       "      <td>...</td>\n",
       "      <td>...</td>\n",
       "      <td>...</td>\n",
       "      <td>...</td>\n",
       "      <td>...</td>\n",
       "      <td>...</td>\n",
       "    </tr>\n",
       "    <tr>\n",
       "      <th>375</th>\n",
       "      <td>2</td>\n",
       "      <td>кв</td>\n",
       "      <td>43</td>\n",
       "      <td>1</td>\n",
       "      <td>Кара-Балта</td>\n",
       "      <td>786</td>\n",
       "      <td>241414</td>\n",
       "      <td>21000</td>\n",
       "      <td>1780783</td>\n",
       "      <td>1439</td>\n",
       "    </tr>\n",
       "    <tr>\n",
       "      <th>376</th>\n",
       "      <td>2</td>\n",
       "      <td>кв</td>\n",
       "      <td>49</td>\n",
       "      <td>2</td>\n",
       "      <td>Кара-Балта</td>\n",
       "      <td>470</td>\n",
       "      <td>243265</td>\n",
       "      <td>25000</td>\n",
       "      <td>2119980</td>\n",
       "      <td>193</td>\n",
       "    </tr>\n",
       "    <tr>\n",
       "      <th>377</th>\n",
       "      <td>2</td>\n",
       "      <td>кв</td>\n",
       "      <td>46</td>\n",
       "      <td>5</td>\n",
       "      <td>Кара-Балта</td>\n",
       "      <td>559</td>\n",
       "      <td>236869</td>\n",
       "      <td>20000</td>\n",
       "      <td>1695984</td>\n",
       "      <td>142</td>\n",
       "    </tr>\n",
       "    <tr>\n",
       "      <th>378</th>\n",
       "      <td>4</td>\n",
       "      <td>кв</td>\n",
       "      <td>2500</td>\n",
       "      <td>2</td>\n",
       "      <td>Кара-Балта</td>\n",
       "      <td>600</td>\n",
       "      <td>2543</td>\n",
       "      <td>16000</td>\n",
       "      <td>1356787</td>\n",
       "      <td>253</td>\n",
       "    </tr>\n",
       "    <tr>\n",
       "      <th>379</th>\n",
       "      <td>2</td>\n",
       "      <td>кв</td>\n",
       "      <td>48</td>\n",
       "      <td>2</td>\n",
       "      <td>Кара-Балта</td>\n",
       "      <td>639</td>\n",
       "      <td>226499</td>\n",
       "      <td>15000</td>\n",
       "      <td>1271957</td>\n",
       "      <td>843</td>\n",
       "    </tr>\n",
       "  </tbody>\n",
       "</table>\n",
       "<p>380 rows × 10 columns</p>\n",
       "</div>"
      ],
      "text/plain": [
       "    Room N Type  Area Floor        City Price for m2 US Price for m2 SOM  \\\n",
       "0        3   кв    83     5      Бишкек             849           272028   \n",
       "1        1   кв    48     9      Бишкек             760           244166   \n",
       "2        2   кв    53     5      Бишкек             631           257599   \n",
       "3        2   кв    43     4      Бишкек             863           268037   \n",
       "4        2   кв    43     4      Бишкек             907           271981   \n",
       "..     ...  ...   ...   ...         ...             ...              ...   \n",
       "375      2   кв    43     1  Кара-Балта             786           241414   \n",
       "376      2   кв    49     2  Кара-Балта             470           243265   \n",
       "377      2   кв    46     5  Кара-Балта             559           236869   \n",
       "378      4   кв  2500     2  Кара-Балта             600             2543   \n",
       "379      2   кв    48     2  Кара-Балта             639           226499   \n",
       "\n",
       "    Price USD Price SOM Views  \n",
       "0       70500   5978344   233  \n",
       "1       25000   2119980   189  \n",
       "2       36000   3052771    57  \n",
       "3       34500   2925572    68  \n",
       "4       36500   3095171   324  \n",
       "..        ...       ...   ...  \n",
       "375     21000   1780783  1439  \n",
       "376     25000   2119980   193  \n",
       "377     20000   1695984   142  \n",
       "378     16000   1356787   253  \n",
       "379     15000   1271957   843  \n",
       "\n",
       "[380 rows x 10 columns]"
      ]
     },
     "execution_count": 18,
     "metadata": {},
     "output_type": "execute_result"
    }
   ],
   "source": [
    "df2"
   ]
  },
  {
   "cell_type": "code",
   "execution_count": null,
   "id": "81c288e5",
   "metadata": {},
   "outputs": [],
   "source": []
  },
  {
   "cell_type": "code",
   "execution_count": 19,
   "id": "58f5ab09",
   "metadata": {},
   "outputs": [],
   "source": [
    "for n in range(0, 1):\n",
    "    html_text = requests.get(f'https://www.house.kg/kupit-kvartiru?region=1&town=9&sort_by=upped_at+desc= {n}').text\n",
    "    soup = BeautifulSoup(html_text, 'lxml')\n",
    "    sales= soup.find_all('div', class_ = 'listing')\n",
    "    for info in sales: \n",
    "        number_of_rooms.append(info.find('p', class_ = 'title').text.replace(' ', '').replace('\\n', '').split('.')[0].split('-')[0])\n",
    "        type_of_house.append(info.find('p', class_ = 'title').text.replace(' ', '').replace('\\n', '').split('.')[1])\n",
    "        area.append(info.find('p', class_ = 'title').text.replace(' ', '').replace('\\n', '').split(',')[1].split('м')[0])\n",
    "        floor.append(info.find('p', class_ = 'title').text.replace(' ', '').replace('\\n', '').split(',')[2].split('э')[0])\n",
    "        city.append(info.find('div', class_ = 'address').text.replace(' ', '').replace('\\n', '').split(',')[0])\n",
    "        price_for_m2_usd.append(info.find('div', class_ = 'sep addit').text.replace(' ', '').replace('\\n', '').split('$')[1].split('/')[0])\n",
    "        price_for_m2_som.append(info.find('div', class_ = 'sep addit').text.replace(' ', '').replace('\\n', '').split('м')[1].split('с')[0])\n",
    "        price_USD.append(info.find('div', class_ = 'price').text.replace(' ', '').replace('\\n', '').split('$')[1])\n",
    "        price_SOM.append(info.find('div', class_ = 'price-addition').text.replace(' ', '').replace('\\n', '').split('с')[0])\n",
    "        if len(info.find('div', class_ = 'additional-info').text.replace(' ', '').replace('\\n', '').split('д')) == 3:\n",
    "            viewers.append(info.find('div', class_ = 'additional-info').text.replace(' ', '').replace('\\n', '').split('д')[2])\n",
    "        else:\n",
    "            viewers.append(info.find('div', class_ = 'additional-info').text.replace(' ', '').replace('\\n', '').split('д')[1])"
   ]
  },
  {
   "cell_type": "code",
   "execution_count": 246,
   "id": "ee1b8f4a",
   "metadata": {},
   "outputs": [],
   "source": [
    "df3 = pd.DataFrame(list(zip(number_of_rooms,type_of_house,area,floor,city,price_for_m2_usd,price_for_m2_som,price_USD,price_SOM,viewers)),\n",
    "               columns =['Room N', 'Type','Area', 'Floor','City', 'Price for m2 US','Price for m2 SOM','Price USD','Price SOM', 'Views'])"
   ]
  },
  {
   "cell_type": "code",
   "execution_count": 247,
   "id": "3efcea98",
   "metadata": {},
   "outputs": [
    {
     "data": {
      "text/html": [
       "<div>\n",
       "<style scoped>\n",
       "    .dataframe tbody tr th:only-of-type {\n",
       "        vertical-align: middle;\n",
       "    }\n",
       "\n",
       "    .dataframe tbody tr th {\n",
       "        vertical-align: top;\n",
       "    }\n",
       "\n",
       "    .dataframe thead th {\n",
       "        text-align: right;\n",
       "    }\n",
       "</style>\n",
       "<table border=\"1\" class=\"dataframe\">\n",
       "  <thead>\n",
       "    <tr style=\"text-align: right;\">\n",
       "      <th></th>\n",
       "      <th>Room N</th>\n",
       "      <th>Type</th>\n",
       "      <th>Area</th>\n",
       "      <th>Floor</th>\n",
       "      <th>City</th>\n",
       "      <th>Price for m2 US</th>\n",
       "      <th>Price for m2 SOM</th>\n",
       "      <th>Price USD</th>\n",
       "      <th>Price SOM</th>\n",
       "      <th>Views</th>\n",
       "    </tr>\n",
       "  </thead>\n",
       "  <tbody>\n",
       "    <tr>\n",
       "      <th>0</th>\n",
       "      <td>3</td>\n",
       "      <td>кв</td>\n",
       "      <td>83</td>\n",
       "      <td>5</td>\n",
       "      <td>Бишкек</td>\n",
       "      <td>849</td>\n",
       "      <td>272028</td>\n",
       "      <td>70500</td>\n",
       "      <td>5978344</td>\n",
       "      <td>233</td>\n",
       "    </tr>\n",
       "    <tr>\n",
       "      <th>1</th>\n",
       "      <td>1</td>\n",
       "      <td>кв</td>\n",
       "      <td>48</td>\n",
       "      <td>9</td>\n",
       "      <td>Бишкек</td>\n",
       "      <td>760</td>\n",
       "      <td>244166</td>\n",
       "      <td>25000</td>\n",
       "      <td>2119980</td>\n",
       "      <td>189</td>\n",
       "    </tr>\n",
       "    <tr>\n",
       "      <th>2</th>\n",
       "      <td>2</td>\n",
       "      <td>кв</td>\n",
       "      <td>53</td>\n",
       "      <td>5</td>\n",
       "      <td>Бишкек</td>\n",
       "      <td>631</td>\n",
       "      <td>257599</td>\n",
       "      <td>36000</td>\n",
       "      <td>3052771</td>\n",
       "      <td>57</td>\n",
       "    </tr>\n",
       "    <tr>\n",
       "      <th>3</th>\n",
       "      <td>2</td>\n",
       "      <td>кв</td>\n",
       "      <td>43</td>\n",
       "      <td>4</td>\n",
       "      <td>Бишкек</td>\n",
       "      <td>863</td>\n",
       "      <td>268037</td>\n",
       "      <td>34500</td>\n",
       "      <td>2925572</td>\n",
       "      <td>68</td>\n",
       "    </tr>\n",
       "    <tr>\n",
       "      <th>4</th>\n",
       "      <td>2</td>\n",
       "      <td>кв</td>\n",
       "      <td>43</td>\n",
       "      <td>4</td>\n",
       "      <td>Бишкек</td>\n",
       "      <td>907</td>\n",
       "      <td>271981</td>\n",
       "      <td>36500</td>\n",
       "      <td>3095171</td>\n",
       "      <td>324</td>\n",
       "    </tr>\n",
       "    <tr>\n",
       "      <th>...</th>\n",
       "      <td>...</td>\n",
       "      <td>...</td>\n",
       "      <td>...</td>\n",
       "      <td>...</td>\n",
       "      <td>...</td>\n",
       "      <td>...</td>\n",
       "      <td>...</td>\n",
       "      <td>...</td>\n",
       "      <td>...</td>\n",
       "      <td>...</td>\n",
       "    </tr>\n",
       "    <tr>\n",
       "      <th>385</th>\n",
       "      <td>3</td>\n",
       "      <td>кв</td>\n",
       "      <td>70</td>\n",
       "      <td>5</td>\n",
       "      <td>Кант</td>\n",
       "      <td>488</td>\n",
       "      <td>238160</td>\n",
       "      <td>31500</td>\n",
       "      <td>2671175</td>\n",
       "      <td>358</td>\n",
       "    </tr>\n",
       "    <tr>\n",
       "      <th>386</th>\n",
       "      <td>3</td>\n",
       "      <td>кв</td>\n",
       "      <td>88</td>\n",
       "      <td>2</td>\n",
       "      <td>Кант</td>\n",
       "      <td>510</td>\n",
       "      <td>238545</td>\n",
       "      <td>40000</td>\n",
       "      <td>3391968</td>\n",
       "      <td>90</td>\n",
       "    </tr>\n",
       "    <tr>\n",
       "      <th>387</th>\n",
       "      <td>2</td>\n",
       "      <td>кв</td>\n",
       "      <td>53</td>\n",
       "      <td>2</td>\n",
       "      <td>Кант</td>\n",
       "      <td>435</td>\n",
       "      <td>255996</td>\n",
       "      <td>35000</td>\n",
       "      <td>2967797</td>\n",
       "      <td>638</td>\n",
       "    </tr>\n",
       "    <tr>\n",
       "      <th>388</th>\n",
       "      <td>3</td>\n",
       "      <td>кв</td>\n",
       "      <td>60</td>\n",
       "      <td>1</td>\n",
       "      <td>Кант</td>\n",
       "      <td>6</td>\n",
       "      <td>245226</td>\n",
       "      <td>32000</td>\n",
       "      <td>2713574</td>\n",
       "      <td>914</td>\n",
       "    </tr>\n",
       "    <tr>\n",
       "      <th>389</th>\n",
       "      <td>1</td>\n",
       "      <td>кв</td>\n",
       "      <td>48.12</td>\n",
       "      <td>1</td>\n",
       "      <td>Кант</td>\n",
       "      <td>313</td>\n",
       "      <td>249343</td>\n",
       "      <td>28000</td>\n",
       "      <td>2374378</td>\n",
       "      <td>946</td>\n",
       "    </tr>\n",
       "  </tbody>\n",
       "</table>\n",
       "<p>390 rows × 10 columns</p>\n",
       "</div>"
      ],
      "text/plain": [
       "    Room N Type   Area Floor    City Price for m2 US Price for m2 SOM  \\\n",
       "0        3   кв     83     5  Бишкек             849           272028   \n",
       "1        1   кв     48     9  Бишкек             760           244166   \n",
       "2        2   кв     53     5  Бишкек             631           257599   \n",
       "3        2   кв     43     4  Бишкек             863           268037   \n",
       "4        2   кв     43     4  Бишкек             907           271981   \n",
       "..     ...  ...    ...   ...     ...             ...              ...   \n",
       "385      3   кв     70     5    Кант             488           238160   \n",
       "386      3   кв     88     2    Кант             510           238545   \n",
       "387      2   кв     53     2    Кант             435           255996   \n",
       "388      3   кв     60     1    Кант               6           245226   \n",
       "389      1   кв  48.12     1    Кант             313           249343   \n",
       "\n",
       "    Price USD Price SOM Views  \n",
       "0       70500   5978344   233  \n",
       "1       25000   2119980   189  \n",
       "2       36000   3052771    57  \n",
       "3       34500   2925572    68  \n",
       "4       36500   3095171   324  \n",
       "..        ...       ...   ...  \n",
       "385     31500   2671175   358  \n",
       "386     40000   3391968    90  \n",
       "387     35000   2967797   638  \n",
       "388     32000   2713574   914  \n",
       "389     28000   2374378   946  \n",
       "\n",
       "[390 rows x 10 columns]"
      ]
     },
     "execution_count": 247,
     "metadata": {},
     "output_type": "execute_result"
    }
   ],
   "source": [
    "df3"
   ]
  },
  {
   "cell_type": "code",
   "execution_count": 248,
   "id": "0082d3d7",
   "metadata": {},
   "outputs": [],
   "source": [
    "import pandas as pd\n",
    "import matplotlib.pyplot as plt\n",
    "from mpl_toolkits.mplot3d import Axes3D\n",
    "\n",
    "import numpy as np\n"
   ]
  },
  {
   "cell_type": "code",
   "execution_count": 249,
   "id": "73769910",
   "metadata": {},
   "outputs": [
    {
     "name": "stdout",
     "output_type": "stream",
     "text": [
      "<class 'pandas.core.frame.DataFrame'>\n",
      "RangeIndex: 390 entries, 0 to 389\n",
      "Data columns (total 10 columns):\n",
      " #   Column            Non-Null Count  Dtype \n",
      "---  ------            --------------  ----- \n",
      " 0   Room N            390 non-null    object\n",
      " 1   Type              390 non-null    object\n",
      " 2   Area              390 non-null    object\n",
      " 3   Floor             390 non-null    object\n",
      " 4   City              390 non-null    object\n",
      " 5   Price for m2 US   390 non-null    object\n",
      " 6   Price for m2 SOM  390 non-null    object\n",
      " 7   Price USD         390 non-null    object\n",
      " 8   Price SOM         390 non-null    object\n",
      " 9   Views             390 non-null    object\n",
      "dtypes: object(10)\n",
      "memory usage: 30.6+ KB\n"
     ]
    }
   ],
   "source": [
    "df3.info()"
   ]
  },
  {
   "cell_type": "code",
   "execution_count": null,
   "id": "3f91e4b0",
   "metadata": {},
   "outputs": [],
   "source": []
  },
  {
   "cell_type": "code",
   "execution_count": 250,
   "id": "adf0183e",
   "metadata": {},
   "outputs": [
    {
     "data": {
      "text/plain": [
       "Room N                    2\n",
       "Type                     кв\n",
       "Area                  78.99\n",
       "Floor                    11\n",
       "City                 Бишкек\n",
       "Price for m2 US         948\n",
       "Price for m2 SOM     260207\n",
       "Price USD             56083\n",
       "Price SOM           4755785\n",
       "Views                  74 1\n",
       "Name: 82, dtype: object"
      ]
     },
     "execution_count": 250,
     "metadata": {},
     "output_type": "execute_result"
    }
   ],
   "source": [
    "df3.iloc[82,0:10]"
   ]
  },
  {
   "cell_type": "code",
   "execution_count": 251,
   "id": "d6f5b182",
   "metadata": {},
   "outputs": [
    {
     "data": {
      "text/html": [
       "<div>\n",
       "<style scoped>\n",
       "    .dataframe tbody tr th:only-of-type {\n",
       "        vertical-align: middle;\n",
       "    }\n",
       "\n",
       "    .dataframe tbody tr th {\n",
       "        vertical-align: top;\n",
       "    }\n",
       "\n",
       "    .dataframe thead th {\n",
       "        text-align: right;\n",
       "    }\n",
       "</style>\n",
       "<table border=\"1\" class=\"dataframe\">\n",
       "  <thead>\n",
       "    <tr style=\"text-align: right;\">\n",
       "      <th></th>\n",
       "      <th>Room N</th>\n",
       "      <th>Type</th>\n",
       "      <th>Area</th>\n",
       "      <th>Floor</th>\n",
       "      <th>City</th>\n",
       "      <th>Price for m2 US</th>\n",
       "      <th>Price for m2 SOM</th>\n",
       "      <th>Price USD</th>\n",
       "      <th>Price SOM</th>\n",
       "      <th>Views</th>\n",
       "    </tr>\n",
       "  </thead>\n",
       "  <tbody>\n",
       "    <tr>\n",
       "      <th>0</th>\n",
       "      <td>3</td>\n",
       "      <td>кв</td>\n",
       "      <td>83</td>\n",
       "      <td>5</td>\n",
       "      <td>Бишкек</td>\n",
       "      <td>849</td>\n",
       "      <td>272028</td>\n",
       "      <td>70500</td>\n",
       "      <td>5978344</td>\n",
       "      <td>233</td>\n",
       "    </tr>\n",
       "    <tr>\n",
       "      <th>1</th>\n",
       "      <td>1</td>\n",
       "      <td>кв</td>\n",
       "      <td>48</td>\n",
       "      <td>9</td>\n",
       "      <td>Бишкек</td>\n",
       "      <td>760</td>\n",
       "      <td>244166</td>\n",
       "      <td>25000</td>\n",
       "      <td>2119980</td>\n",
       "      <td>189</td>\n",
       "    </tr>\n",
       "    <tr>\n",
       "      <th>2</th>\n",
       "      <td>2</td>\n",
       "      <td>кв</td>\n",
       "      <td>53</td>\n",
       "      <td>5</td>\n",
       "      <td>Бишкек</td>\n",
       "      <td>631</td>\n",
       "      <td>257599</td>\n",
       "      <td>36000</td>\n",
       "      <td>3052771</td>\n",
       "      <td>57</td>\n",
       "    </tr>\n",
       "    <tr>\n",
       "      <th>3</th>\n",
       "      <td>2</td>\n",
       "      <td>кв</td>\n",
       "      <td>43</td>\n",
       "      <td>4</td>\n",
       "      <td>Бишкек</td>\n",
       "      <td>863</td>\n",
       "      <td>268037</td>\n",
       "      <td>34500</td>\n",
       "      <td>2925572</td>\n",
       "      <td>68</td>\n",
       "    </tr>\n",
       "    <tr>\n",
       "      <th>4</th>\n",
       "      <td>2</td>\n",
       "      <td>кв</td>\n",
       "      <td>43</td>\n",
       "      <td>4</td>\n",
       "      <td>Бишкек</td>\n",
       "      <td>907</td>\n",
       "      <td>271981</td>\n",
       "      <td>36500</td>\n",
       "      <td>3095171</td>\n",
       "      <td>324</td>\n",
       "    </tr>\n",
       "    <tr>\n",
       "      <th>...</th>\n",
       "      <td>...</td>\n",
       "      <td>...</td>\n",
       "      <td>...</td>\n",
       "      <td>...</td>\n",
       "      <td>...</td>\n",
       "      <td>...</td>\n",
       "      <td>...</td>\n",
       "      <td>...</td>\n",
       "      <td>...</td>\n",
       "      <td>...</td>\n",
       "    </tr>\n",
       "    <tr>\n",
       "      <th>385</th>\n",
       "      <td>3</td>\n",
       "      <td>кв</td>\n",
       "      <td>70</td>\n",
       "      <td>5</td>\n",
       "      <td>Кант</td>\n",
       "      <td>488</td>\n",
       "      <td>238160</td>\n",
       "      <td>31500</td>\n",
       "      <td>2671175</td>\n",
       "      <td>358</td>\n",
       "    </tr>\n",
       "    <tr>\n",
       "      <th>386</th>\n",
       "      <td>3</td>\n",
       "      <td>кв</td>\n",
       "      <td>88</td>\n",
       "      <td>2</td>\n",
       "      <td>Кант</td>\n",
       "      <td>510</td>\n",
       "      <td>238545</td>\n",
       "      <td>40000</td>\n",
       "      <td>3391968</td>\n",
       "      <td>90</td>\n",
       "    </tr>\n",
       "    <tr>\n",
       "      <th>387</th>\n",
       "      <td>2</td>\n",
       "      <td>кв</td>\n",
       "      <td>53</td>\n",
       "      <td>2</td>\n",
       "      <td>Кант</td>\n",
       "      <td>435</td>\n",
       "      <td>255996</td>\n",
       "      <td>35000</td>\n",
       "      <td>2967797</td>\n",
       "      <td>638</td>\n",
       "    </tr>\n",
       "    <tr>\n",
       "      <th>388</th>\n",
       "      <td>3</td>\n",
       "      <td>кв</td>\n",
       "      <td>60</td>\n",
       "      <td>1</td>\n",
       "      <td>Кант</td>\n",
       "      <td>6</td>\n",
       "      <td>245226</td>\n",
       "      <td>32000</td>\n",
       "      <td>2713574</td>\n",
       "      <td>914</td>\n",
       "    </tr>\n",
       "    <tr>\n",
       "      <th>389</th>\n",
       "      <td>1</td>\n",
       "      <td>кв</td>\n",
       "      <td>48.12</td>\n",
       "      <td>1</td>\n",
       "      <td>Кант</td>\n",
       "      <td>313</td>\n",
       "      <td>249343</td>\n",
       "      <td>28000</td>\n",
       "      <td>2374378</td>\n",
       "      <td>946</td>\n",
       "    </tr>\n",
       "  </tbody>\n",
       "</table>\n",
       "<p>389 rows × 10 columns</p>\n",
       "</div>"
      ],
      "text/plain": [
       "    Room N Type   Area Floor    City Price for m2 US Price for m2 SOM  \\\n",
       "0        3   кв     83     5  Бишкек             849           272028   \n",
       "1        1   кв     48     9  Бишкек             760           244166   \n",
       "2        2   кв     53     5  Бишкек             631           257599   \n",
       "3        2   кв     43     4  Бишкек             863           268037   \n",
       "4        2   кв     43     4  Бишкек             907           271981   \n",
       "..     ...  ...    ...   ...     ...             ...              ...   \n",
       "385      3   кв     70     5    Кант             488           238160   \n",
       "386      3   кв     88     2    Кант             510           238545   \n",
       "387      2   кв     53     2    Кант             435           255996   \n",
       "388      3   кв     60     1    Кант               6           245226   \n",
       "389      1   кв  48.12     1    Кант             313           249343   \n",
       "\n",
       "    Price USD Price SOM Views  \n",
       "0       70500   5978344   233  \n",
       "1       25000   2119980   189  \n",
       "2       36000   3052771    57  \n",
       "3       34500   2925572    68  \n",
       "4       36500   3095171   324  \n",
       "..        ...       ...   ...  \n",
       "385     31500   2671175   358  \n",
       "386     40000   3391968    90  \n",
       "387     35000   2967797   638  \n",
       "388     32000   2713574   914  \n",
       "389     28000   2374378   946  \n",
       "\n",
       "[389 rows x 10 columns]"
      ]
     },
     "execution_count": 251,
     "metadata": {},
     "output_type": "execute_result"
    }
   ],
   "source": [
    "df3.drop(labels =[338], axis= 0)"
   ]
  },
  {
   "cell_type": "code",
   "execution_count": 252,
   "id": "c4d015ba",
   "metadata": {},
   "outputs": [],
   "source": [
    "df3=df3.drop(labels =[338], axis= 0)"
   ]
  },
  {
   "cell_type": "code",
   "execution_count": 253,
   "id": "2ddb5270",
   "metadata": {},
   "outputs": [
    {
     "data": {
      "text/plain": [
       "Room N                    3\n",
       "Type                     кв\n",
       "Area                     92\n",
       "Floor                     5\n",
       "City                     Ош\n",
       "Price for m2 US         536\n",
       "Price for m2 SOM     238252\n",
       "Price USD             41500\n",
       "Price SOM           3519167\n",
       "Views                   900\n",
       "Name: 339, dtype: object"
      ]
     },
     "execution_count": 253,
     "metadata": {},
     "output_type": "execute_result"
    }
   ],
   "source": [
    "df3.iloc[338, 0:10]"
   ]
  },
  {
   "cell_type": "code",
   "execution_count": 254,
   "id": "b33b81bc",
   "metadata": {},
   "outputs": [
    {
     "data": {
      "text/plain": [
       "0      233\n",
       "1      189\n",
       "2       57\n",
       "3       68\n",
       "4      324\n",
       "      ... \n",
       "385    358\n",
       "386     90\n",
       "387    638\n",
       "388    914\n",
       "389    946\n",
       "Name: Views, Length: 389, dtype: object"
      ]
     },
     "execution_count": 254,
     "metadata": {},
     "output_type": "execute_result"
    }
   ],
   "source": [
    "df3.pop(\"Views\")"
   ]
  },
  {
   "cell_type": "code",
   "execution_count": 255,
   "id": "ef6a690e",
   "metadata": {},
   "outputs": [],
   "source": [
    "df3[\"Room N\"] = pd.to_numeric(df3[\"Room N\"])\n",
    "df3[\"Area\"] = pd.to_numeric(df3[\"Area\"])\n",
    "df3[\"Floor\"] = pd.to_numeric(df3[\"Floor\"])\n",
    "df3[\"Price for m2 US\"] = pd.to_numeric(df3[\"Price for m2 US\"])\n",
    "df3[\"Price for m2 SOM\"] = pd.to_numeric(df3[\"Price for m2 SOM\"])\n",
    "df3[\"Price USD\"] = pd.to_numeric(df3[\"Price USD\"])\n",
    "df3[\"Price SOM\"] = pd.to_numeric(df3[\"Price SOM\"])\n"
   ]
  },
  {
   "cell_type": "code",
   "execution_count": 257,
   "id": "31994bfb",
   "metadata": {},
   "outputs": [
    {
     "data": {
      "text/plain": [
       "array(['Бишкек', 'Бишкек', 'Бишкек', 'Бишкек', 'Бишкек', 'Бишкек',\n",
       "       'Бишкек', 'Бишкек', 'Бишкек', 'Бишкек', 'Бишкек', 'Бишкек',\n",
       "       'Бишкек', 'Бишкек', 'Бишкек', 'Бишкек', 'Бишкек', 'Бишкек',\n",
       "       'Бишкек', 'Бишкек', 'Бишкек', 'Бишкек', 'Бишкек', 'Бишкек',\n",
       "       'Бишкек', 'Бишкек', 'Бишкек', 'Бишкек', 'Бишкек', 'Бишкек',\n",
       "       'Бишкек', 'Бишкек', 'Бишкек', 'Бишкек', 'Бишкек', 'Бишкек',\n",
       "       'Бишкек', 'Бишкек', 'Бишкек', 'Бишкек', 'Бишкек', 'Бишкек',\n",
       "       'Бишкек', 'Бишкек', 'Бишкек', 'Бишкек', 'Бишкек', 'Бишкек',\n",
       "       'Бишкек', 'Бишкек', 'Бишкек', 'Бишкек', 'Бишкек', 'Бишкек',\n",
       "       'Бишкек', 'Бишкек', 'Бишкек', 'Бишкек', 'Бишкек', 'Бишкек',\n",
       "       'Бишкек', 'Бишкек', 'Бишкек', 'Бишкек', 'Бишкек', 'Бишкек',\n",
       "       'Бишкек', 'Бишкек', 'Бишкек', 'Бишкек', 'Бишкек', 'Бишкек',\n",
       "       'Бишкек', 'Бишкек', 'Бишкек', 'Бишкек', 'Бишкек', 'Бишкек',\n",
       "       'Бишкек', 'Бишкек', 'Бишкек', 'Бишкек', 'Бишкек', 'Бишкек',\n",
       "       'Бишкек', 'Бишкек', 'Бишкек', 'Бишкек', 'Бишкек', 'Бишкек',\n",
       "       'Бишкек', 'Бишкек', 'Бишкек', 'с.Кок-Джар', 'Бишкек', 'Бишкек',\n",
       "       'Бишкек', 'Бишкек', 'Бишкек', 'Бишкек', 'Бишкек', 'Бишкек',\n",
       "       'Бишкек', 'Бишкек', 'Бишкек', 'Бишкек', 'Бишкек', 'Бишкек',\n",
       "       'Бишкек', 'Бишкек', 'Бишкек', 'Бишкек', 'Бишкек', 'Бишкек',\n",
       "       'Бишкек', 'Бишкек', 'Бишкек', 'Бишкек', 'Бишкек', 'Бишкек',\n",
       "       'Бишкек', 'Бишкек', 'Бишкек', 'Бишкек', 'Бишкек', 'Бишкек',\n",
       "       'Бишкек', 'Бишкек', 'Бишкек', 'Бишкек', 'Бишкек', 'Бишкек',\n",
       "       'Бишкек', 'Бишкек', 'Бишкек', 'Бишкек', 'Бишкек', 'Бишкек',\n",
       "       'Бишкек', 'Бишкек', 'Бишкек', 'Бишкек', 'Бишкек', 'Бишкек',\n",
       "       'Бишкек', 'Бишкек', 'Бишкек', 'Бишкек', 'Бишкек', 'Бишкек',\n",
       "       'Бишкек', 'Бишкек', 'Бишкек', 'Бишкек', 'Бишкек', 'Бишкек',\n",
       "       'Бишкек', 'Бишкек', 'Бишкек', 'Бишкек', 'Бишкек', 'Бишкек',\n",
       "       'Бишкек', 'Бишкек', 'Бишкек', 'Бишкек', 'Бишкек', 'Бишкек',\n",
       "       'Бишкек', 'Бишкек', 'Бишкек', 'Бишкек', 'Бишкек', 'Бишкек',\n",
       "       'Бишкек', 'Бишкек', 'Бишкек', 'Бишкек', 'Бишкек', 'Бишкек',\n",
       "       'Бишкек', 'Бишкек', 'Бишкек', 'Бишкек', 'Бишкек', 'Бишкек',\n",
       "       'Бишкек', 'Бишкек', 'Бишкек', 'Бишкек', 'Бишкек', 'Бишкек',\n",
       "       'Бишкек', 'Бишкек', 'Бишкек', 'Бишкек', 'Бишкек', 'Бишкек',\n",
       "       'Бишкек', 'Бишкек', 'Ош', 'Ош', 'Ош', 'Ош', 'Ош', 'Ош', 'Ош', 'Ош',\n",
       "       'Ош', 'Ош', 'Ош', 'Ош', 'Ош', 'Ош', 'Ош', 'Ош', 'Ош', 'Ош', 'Ош',\n",
       "       'Ош', 'Ош', 'Ош', 'Ош', 'Ош', 'Ош', 'Ош', 'Ош', 'Ош', 'Ош', 'Ош',\n",
       "       'Ош', 'Ош', 'Ош', 'Ош', 'Ош', 'Ош', 'Ош', 'Ош', 'Ош', 'Ош', 'Ош',\n",
       "       'Ош', 'Ош', 'Ош', 'Ош', 'Ош', 'Ош', 'Ош', 'Ош', 'Ош', 'Ош', 'Ош',\n",
       "       'Ош', 'Ош', 'Ош', 'Ош', 'Ош', 'Ош', 'Ош', 'Ош', 'Ош', 'Ош', 'Ош',\n",
       "       'Ош', 'Ош', 'Ош', 'Ош', 'Ош', 'Ош', 'Ош', 'Ош', 'Ош', 'Ош', 'Ош',\n",
       "       'Ош', 'Ош', 'Ош', 'Ош', 'Ош', 'Ош', 'Ош', 'Ош', 'Ош', 'Ош', 'Ош',\n",
       "       'Ош', 'Ош', 'Ош', 'Ош', 'Ош', 'Ош', 'Ош', 'Ош', 'Ош', 'Ош', 'Ош',\n",
       "       'Ош', 'Ош', 'Ош', 'Ош', 'Ош', 'Ош', 'Ош', 'Ош', 'Ош', 'Ош', 'Ош',\n",
       "       'Ош', 'Ош', 'Ош', 'Ош', 'Ош', 'Ош', 'Ош', 'Ош', 'Ош', 'Ош', 'Ош',\n",
       "       'Ош', 'Ош', 'Ош', 'Ош', 'Ош', 'Ош', 'Ош', 'Ош', 'Ош', 'Ош', 'Ош',\n",
       "       'Ош', 'Ош', 'Ош', 'Ош', 'Ош', 'Ош', 'Ош', 'Ош', 'Ош', 'Ош', 'Ош',\n",
       "       'Ош', 'Ош', 'Ош', 'Ош', 'Ош', 'Ош', 'Ош', 'Ош', 'Ош', 'Ош', 'Ош',\n",
       "       'Ош', 'Ош', 'Ош', 'Ош', 'Ош', 'Ош', 'Ош', 'Ош', 'Кара-Балта',\n",
       "       'Кара-Балта', 'Кара-Балта', 'Кара-Балта', 'Кара-Балта',\n",
       "       'Кара-Балта', 'Кара-Балта', 'Кара-Балта', 'Кара-Балта',\n",
       "       'Кара-Балта', 'Кара-Балта', 'Кара-Балта', 'Кара-Балта',\n",
       "       'Кара-Балта', 'Кара-Балта', 'Кара-Балта', 'Кара-Балта',\n",
       "       'Кара-Балта', 'Кара-Балта', 'Кара-Балта', 'Кант', 'Кант', 'Кант',\n",
       "       'Кант', 'Кант', 'Кант', 'Кант', 'Кант', 'Кант', 'Кант'],\n",
       "      dtype=object)"
      ]
     },
     "execution_count": 257,
     "metadata": {},
     "output_type": "execute_result"
    }
   ],
   "source": [
    "df3['City'].values"
   ]
  },
  {
   "cell_type": "code",
   "execution_count": 258,
   "id": "e07c16ef",
   "metadata": {},
   "outputs": [],
   "source": [
    "df3['Type'] = df3['Type'].map( { 'кв': 0} ).astype(int)"
   ]
  },
  {
   "cell_type": "code",
   "execution_count": 259,
   "id": "f6186149",
   "metadata": {},
   "outputs": [
    {
     "name": "stdout",
     "output_type": "stream",
     "text": [
      "<class 'pandas.core.frame.DataFrame'>\n",
      "Int64Index: 389 entries, 0 to 389\n",
      "Data columns (total 9 columns):\n",
      " #   Column            Non-Null Count  Dtype  \n",
      "---  ------            --------------  -----  \n",
      " 0   Room N            389 non-null    int64  \n",
      " 1   Type              389 non-null    int32  \n",
      " 2   Area              389 non-null    float64\n",
      " 3   Floor             389 non-null    int64  \n",
      " 4   City              389 non-null    object \n",
      " 5   Price for m2 US   389 non-null    int64  \n",
      " 6   Price for m2 SOM  389 non-null    int64  \n",
      " 7   Price USD         389 non-null    int64  \n",
      " 8   Price SOM         389 non-null    int64  \n",
      "dtypes: float64(1), int32(1), int64(6), object(1)\n",
      "memory usage: 28.9+ KB\n"
     ]
    }
   ],
   "source": [
    "df3.info()"
   ]
  },
  {
   "cell_type": "code",
   "execution_count": 261,
   "id": "49c639ab",
   "metadata": {},
   "outputs": [],
   "source": [
    "df3['City'] = df3['City'].map( { 'Бишкек': 0, 'Кант': 1, 'с.Кок-Джар': 2, 'Ош': 3, 'Кара-Балта': 4} ).astype(int)"
   ]
  },
  {
   "cell_type": "code",
   "execution_count": 262,
   "id": "a1ad8db2",
   "metadata": {},
   "outputs": [
    {
     "name": "stdout",
     "output_type": "stream",
     "text": [
      "<class 'pandas.core.frame.DataFrame'>\n",
      "Int64Index: 389 entries, 0 to 389\n",
      "Data columns (total 9 columns):\n",
      " #   Column            Non-Null Count  Dtype  \n",
      "---  ------            --------------  -----  \n",
      " 0   Room N            389 non-null    int64  \n",
      " 1   Type              389 non-null    int32  \n",
      " 2   Area              389 non-null    float64\n",
      " 3   Floor             389 non-null    int64  \n",
      " 4   City              389 non-null    int32  \n",
      " 5   Price for m2 US   389 non-null    int64  \n",
      " 6   Price for m2 SOM  389 non-null    int64  \n",
      " 7   Price USD         389 non-null    int64  \n",
      " 8   Price SOM         389 non-null    int64  \n",
      "dtypes: float64(1), int32(2), int64(6)\n",
      "memory usage: 27.4 KB\n"
     ]
    }
   ],
   "source": [
    "df3.info()"
   ]
  },
  {
   "cell_type": "code",
   "execution_count": 263,
   "id": "2333fa2a",
   "metadata": {},
   "outputs": [
    {
     "data": {
      "text/html": [
       "<div>\n",
       "<style scoped>\n",
       "    .dataframe tbody tr th:only-of-type {\n",
       "        vertical-align: middle;\n",
       "    }\n",
       "\n",
       "    .dataframe tbody tr th {\n",
       "        vertical-align: top;\n",
       "    }\n",
       "\n",
       "    .dataframe thead th {\n",
       "        text-align: right;\n",
       "    }\n",
       "</style>\n",
       "<table border=\"1\" class=\"dataframe\">\n",
       "  <thead>\n",
       "    <tr style=\"text-align: right;\">\n",
       "      <th></th>\n",
       "      <th>Room N</th>\n",
       "      <th>Type</th>\n",
       "      <th>Area</th>\n",
       "      <th>Floor</th>\n",
       "      <th>City</th>\n",
       "      <th>Price for m2 US</th>\n",
       "      <th>Price for m2 SOM</th>\n",
       "      <th>Price USD</th>\n",
       "      <th>Price SOM</th>\n",
       "    </tr>\n",
       "  </thead>\n",
       "  <tbody>\n",
       "    <tr>\n",
       "      <th>0</th>\n",
       "      <td>3</td>\n",
       "      <td>0</td>\n",
       "      <td>83.00</td>\n",
       "      <td>5</td>\n",
       "      <td>0</td>\n",
       "      <td>849</td>\n",
       "      <td>272028</td>\n",
       "      <td>70500</td>\n",
       "      <td>5978344</td>\n",
       "    </tr>\n",
       "    <tr>\n",
       "      <th>1</th>\n",
       "      <td>1</td>\n",
       "      <td>0</td>\n",
       "      <td>48.00</td>\n",
       "      <td>9</td>\n",
       "      <td>0</td>\n",
       "      <td>760</td>\n",
       "      <td>244166</td>\n",
       "      <td>25000</td>\n",
       "      <td>2119980</td>\n",
       "    </tr>\n",
       "    <tr>\n",
       "      <th>2</th>\n",
       "      <td>2</td>\n",
       "      <td>0</td>\n",
       "      <td>53.00</td>\n",
       "      <td>5</td>\n",
       "      <td>0</td>\n",
       "      <td>631</td>\n",
       "      <td>257599</td>\n",
       "      <td>36000</td>\n",
       "      <td>3052771</td>\n",
       "    </tr>\n",
       "    <tr>\n",
       "      <th>3</th>\n",
       "      <td>2</td>\n",
       "      <td>0</td>\n",
       "      <td>43.00</td>\n",
       "      <td>4</td>\n",
       "      <td>0</td>\n",
       "      <td>863</td>\n",
       "      <td>268037</td>\n",
       "      <td>34500</td>\n",
       "      <td>2925572</td>\n",
       "    </tr>\n",
       "    <tr>\n",
       "      <th>4</th>\n",
       "      <td>2</td>\n",
       "      <td>0</td>\n",
       "      <td>43.00</td>\n",
       "      <td>4</td>\n",
       "      <td>0</td>\n",
       "      <td>907</td>\n",
       "      <td>271981</td>\n",
       "      <td>36500</td>\n",
       "      <td>3095171</td>\n",
       "    </tr>\n",
       "    <tr>\n",
       "      <th>...</th>\n",
       "      <td>...</td>\n",
       "      <td>...</td>\n",
       "      <td>...</td>\n",
       "      <td>...</td>\n",
       "      <td>...</td>\n",
       "      <td>...</td>\n",
       "      <td>...</td>\n",
       "      <td>...</td>\n",
       "      <td>...</td>\n",
       "    </tr>\n",
       "    <tr>\n",
       "      <th>385</th>\n",
       "      <td>3</td>\n",
       "      <td>0</td>\n",
       "      <td>70.00</td>\n",
       "      <td>5</td>\n",
       "      <td>1</td>\n",
       "      <td>488</td>\n",
       "      <td>238160</td>\n",
       "      <td>31500</td>\n",
       "      <td>2671175</td>\n",
       "    </tr>\n",
       "    <tr>\n",
       "      <th>386</th>\n",
       "      <td>3</td>\n",
       "      <td>0</td>\n",
       "      <td>88.00</td>\n",
       "      <td>2</td>\n",
       "      <td>1</td>\n",
       "      <td>510</td>\n",
       "      <td>238545</td>\n",
       "      <td>40000</td>\n",
       "      <td>3391968</td>\n",
       "    </tr>\n",
       "    <tr>\n",
       "      <th>387</th>\n",
       "      <td>2</td>\n",
       "      <td>0</td>\n",
       "      <td>53.00</td>\n",
       "      <td>2</td>\n",
       "      <td>1</td>\n",
       "      <td>435</td>\n",
       "      <td>255996</td>\n",
       "      <td>35000</td>\n",
       "      <td>2967797</td>\n",
       "    </tr>\n",
       "    <tr>\n",
       "      <th>388</th>\n",
       "      <td>3</td>\n",
       "      <td>0</td>\n",
       "      <td>60.00</td>\n",
       "      <td>1</td>\n",
       "      <td>1</td>\n",
       "      <td>6</td>\n",
       "      <td>245226</td>\n",
       "      <td>32000</td>\n",
       "      <td>2713574</td>\n",
       "    </tr>\n",
       "    <tr>\n",
       "      <th>389</th>\n",
       "      <td>1</td>\n",
       "      <td>0</td>\n",
       "      <td>48.12</td>\n",
       "      <td>1</td>\n",
       "      <td>1</td>\n",
       "      <td>313</td>\n",
       "      <td>249343</td>\n",
       "      <td>28000</td>\n",
       "      <td>2374378</td>\n",
       "    </tr>\n",
       "  </tbody>\n",
       "</table>\n",
       "<p>389 rows × 9 columns</p>\n",
       "</div>"
      ],
      "text/plain": [
       "     Room N  Type   Area  Floor  City  Price for m2 US  Price for m2 SOM  \\\n",
       "0         3     0  83.00      5     0              849            272028   \n",
       "1         1     0  48.00      9     0              760            244166   \n",
       "2         2     0  53.00      5     0              631            257599   \n",
       "3         2     0  43.00      4     0              863            268037   \n",
       "4         2     0  43.00      4     0              907            271981   \n",
       "..      ...   ...    ...    ...   ...              ...               ...   \n",
       "385       3     0  70.00      5     1              488            238160   \n",
       "386       3     0  88.00      2     1              510            238545   \n",
       "387       2     0  53.00      2     1              435            255996   \n",
       "388       3     0  60.00      1     1                6            245226   \n",
       "389       1     0  48.12      1     1              313            249343   \n",
       "\n",
       "     Price USD  Price SOM  \n",
       "0        70500    5978344  \n",
       "1        25000    2119980  \n",
       "2        36000    3052771  \n",
       "3        34500    2925572  \n",
       "4        36500    3095171  \n",
       "..         ...        ...  \n",
       "385      31500    2671175  \n",
       "386      40000    3391968  \n",
       "387      35000    2967797  \n",
       "388      32000    2713574  \n",
       "389      28000    2374378  \n",
       "\n",
       "[389 rows x 9 columns]"
      ]
     },
     "execution_count": 263,
     "metadata": {},
     "output_type": "execute_result"
    }
   ],
   "source": [
    "df3"
   ]
  },
  {
   "cell_type": "code",
   "execution_count": 289,
   "id": "fab3f6be",
   "metadata": {},
   "outputs": [],
   "source": [
    "df4 = df3.copy()"
   ]
  },
  {
   "cell_type": "code",
   "execution_count": 274,
   "id": "acf22b0b",
   "metadata": {},
   "outputs": [
    {
     "data": {
      "text/plain": [
       "0      0\n",
       "1      0\n",
       "2      0\n",
       "3      0\n",
       "4      0\n",
       "      ..\n",
       "385    1\n",
       "386    1\n",
       "387    1\n",
       "388    1\n",
       "389    1\n",
       "Name: City, Length: 389, dtype: int32"
      ]
     },
     "execution_count": 274,
     "metadata": {},
     "output_type": "execute_result"
    }
   ],
   "source": []
  },
  {
   "cell_type": "code",
   "execution_count": null,
   "id": "e2f46995",
   "metadata": {},
   "outputs": [],
   "source": []
  },
  {
   "cell_type": "code",
   "execution_count": 287,
   "id": "b166cd07",
   "metadata": {},
   "outputs": [],
   "source": [
    "from sklearn.model_selection import train_test_split"
   ]
  },
  {
   "cell_type": "code",
   "execution_count": 288,
   "id": "55260a7b",
   "metadata": {},
   "outputs": [],
   "source": [
    "y = df4['City']"
   ]
  },
  {
   "cell_type": "code",
   "execution_count": 290,
   "id": "0c16e2d1",
   "metadata": {},
   "outputs": [
    {
     "data": {
      "text/plain": [
       "0      0\n",
       "1      0\n",
       "2      0\n",
       "3      0\n",
       "4      0\n",
       "      ..\n",
       "385    1\n",
       "386    1\n",
       "387    1\n",
       "388    1\n",
       "389    1\n",
       "Name: City, Length: 389, dtype: int32"
      ]
     },
     "execution_count": 290,
     "metadata": {},
     "output_type": "execute_result"
    }
   ],
   "source": [
    "x=df4\n",
    "x.pop('City')"
   ]
  },
  {
   "cell_type": "code",
   "execution_count": 291,
   "id": "d72c6def",
   "metadata": {},
   "outputs": [],
   "source": [
    "x_train, x_test, y_train, y_test = train_test_split(x, y, test_size=0.25, random_state=0)"
   ]
  },
  {
   "cell_type": "code",
   "execution_count": 292,
   "id": "5f6a46c0",
   "metadata": {},
   "outputs": [],
   "source": [
    "from sklearn.ensemble import RandomForestClassifier"
   ]
  },
  {
   "cell_type": "code",
   "execution_count": 294,
   "id": "d896de87",
   "metadata": {},
   "outputs": [],
   "source": [
    "RandomForest = RandomForestClassifier(n_estimators = 400)\n"
   ]
  },
  {
   "cell_type": "code",
   "execution_count": 295,
   "id": "8ffe2f3c",
   "metadata": {},
   "outputs": [
    {
     "data": {
      "text/plain": [
       "RandomForestClassifier(n_estimators=400)"
      ]
     },
     "execution_count": 295,
     "metadata": {},
     "output_type": "execute_result"
    }
   ],
   "source": [
    "RandomForest.fit(x_train, y_train)"
   ]
  },
  {
   "cell_type": "code",
   "execution_count": 296,
   "id": "98bfbebc",
   "metadata": {},
   "outputs": [
    {
     "data": {
      "text/plain": [
       "1.0"
      ]
     },
     "execution_count": 296,
     "metadata": {},
     "output_type": "execute_result"
    }
   ],
   "source": [
    "RandomForest.score(x_train, y_train)"
   ]
  },
  {
   "cell_type": "code",
   "execution_count": 297,
   "id": "baeec1cd",
   "metadata": {},
   "outputs": [
    {
     "data": {
      "text/plain": [
       "0.9183673469387755"
      ]
     },
     "execution_count": 297,
     "metadata": {},
     "output_type": "execute_result"
    }
   ],
   "source": [
    "RandomForest.score(x_test, y_test)"
   ]
  },
  {
   "cell_type": "code",
   "execution_count": 298,
   "id": "9747cbbd",
   "metadata": {},
   "outputs": [],
   "source": [
    "from sklearn.cluster import KMeans"
   ]
  },
  {
   "cell_type": "code",
   "execution_count": 301,
   "id": "e598b1ce",
   "metadata": {},
   "outputs": [],
   "source": [
    "df5= df3.copy()"
   ]
  },
  {
   "cell_type": "code",
   "execution_count": 302,
   "id": "2b0f313f",
   "metadata": {},
   "outputs": [
    {
     "data": {
      "text/plain": [
       "0      0\n",
       "1      0\n",
       "2      0\n",
       "3      0\n",
       "4      0\n",
       "      ..\n",
       "385    1\n",
       "386    1\n",
       "387    1\n",
       "388    1\n",
       "389    1\n",
       "Name: City, Length: 389, dtype: int32"
      ]
     },
     "execution_count": 302,
     "metadata": {},
     "output_type": "execute_result"
    }
   ],
   "source": [
    "df5.pop('City')"
   ]
  },
  {
   "cell_type": "code",
   "execution_count": 306,
   "id": "223d60fa",
   "metadata": {},
   "outputs": [],
   "source": [
    "kmeans = KMeans(n_clusters=5, random_state=0)\n",
    "y_pred = kmeans.fit_predict(df5)"
   ]
  },
  {
   "cell_type": "code",
   "execution_count": 310,
   "id": "2918e012",
   "metadata": {},
   "outputs": [
    {
     "data": {
      "text/plain": [
       "389"
      ]
     },
     "execution_count": 310,
     "metadata": {},
     "output_type": "execute_result"
    }
   ],
   "source": [
    "len(x)"
   ]
  },
  {
   "cell_type": "code",
   "execution_count": 318,
   "id": "6fa08fe1",
   "metadata": {},
   "outputs": [
    {
     "data": {
      "image/png": "[encoded data removed]",
      "text/plain": [
       "<Figure size 432x288 with 1 Axes>"
      ]
     },
     "metadata": {
      "needs_background": "light"
     },
     "output_type": "display_data"
    }
   ],
   "source": [
    "#kmeans clusters\n",
    "plt.scatter(df3.iloc[:, 3], df3.iloc[:, 8], c=y_pred)\n",
    "plt.title(\"Predicted\")\n",
    "plt.xlabel(\"x\")\n",
    "plt.ylabel(\"y\")\n",
    "plt.show()"
   ]
  },
  {
   "cell_type": "code",
   "execution_count": 319,
   "id": "75843d76",
   "metadata": {},
   "outputs": [],
   "source": [
    "from sklearn.cluster import DBSCAN"
   ]
  },
  {
   "cell_type": "code",
   "execution_count": 325,
   "id": "08d47dd2",
   "metadata": {},
   "outputs": [],
   "source": [
    "clustering = DBSCAN(eps=2, min_samples=2)"
   ]
  },
  {
   "cell_type": "code",
   "execution_count": 326,
   "id": "b782064f",
   "metadata": {},
   "outputs": [],
   "source": [
    "y_pred=clustering.fit_predict(df3)"
   ]
  },
  {
   "cell_type": "code",
   "execution_count": 327,
   "id": "6b22cf97",
   "metadata": {},
   "outputs": [
    {
     "data": {
      "image/png": "[encoded data removed]",
      "text/plain": [
       "<Figure size 432x288 with 1 Axes>"
      ]
     },
     "metadata": {
      "needs_background": "light"
     },
     "output_type": "display_data"
    }
   ],
   "source": [
    "#kmeans clusters\n",
    "plt.scatter(df3.iloc[:, 3], df3.iloc[:, 8], c=y_pred)\n",
    "plt.title(\"Predicted\")\n",
    "plt.xlabel(\"x\")\n",
    "plt.ylabel(\"y\")\n",
    "plt.show()"
   ]
  },
  {
   "cell_type": "code",
   "execution_count": 329,
   "id": "ea990ead",
   "metadata": {},
   "outputs": [
    {
     "data": {
      "image/png": "[encoded data removed]",
      "text/plain": [
       "<Figure size 432x432 with 1 Axes>"
      ]
     },
     "metadata": {
      "needs_background": "light"
     },
     "output_type": "display_data"
    }
   ],
   "source": [
    "fig = plt.figure(figsize=(6, 6))\n",
    "ax = fig.add_subplot(111, projection='3d')\n",
    "ax.scatter(df3.iloc[:,0],df3.iloc[:,4], df3.iloc[:,8],\n",
    "           linewidths=1, alpha=.7,\n",
    "           edgecolor='k',\n",
    "           s = 200,\n",
    "           c=y_pred)\n",
    "plt.show()"
   ]
  },
  {
   "cell_type": "code",
   "execution_count": 330,
   "id": "c3fbe6a9",
   "metadata": {},
   "outputs": [
    {
     "data": {
      "text/plain": [
       "44593.097686375324"
      ]
     },
     "execution_count": 330,
     "metadata": {},
     "output_type": "execute_result"
    }
   ],
   "source": [
    "df3[\"Price USD\"]. mean()\n"
   ]
  },
  {
   "cell_type": "code",
   "execution_count": 332,
   "id": "c0d5e643",
   "metadata": {},
   "outputs": [
    {
     "data": {
      "text/plain": [
       "77.50796915167089"
      ]
     },
     "execution_count": 332,
     "metadata": {},
     "output_type": "execute_result"
    }
   ],
   "source": [
    "df3[\"Area\"]. mean()"
   ]
  },
  {
   "cell_type": "code",
   "execution_count": 336,
   "id": "a53290b8",
   "metadata": {},
   "outputs": [
    {
     "data": {
      "text/html": [
       "<div>\n",
       "<style scoped>\n",
       "    .dataframe tbody tr th:only-of-type {\n",
       "        vertical-align: middle;\n",
       "    }\n",
       "\n",
       "    .dataframe tbody tr th {\n",
       "        vertical-align: top;\n",
       "    }\n",
       "\n",
       "    .dataframe thead th {\n",
       "        text-align: right;\n",
       "    }\n",
       "</style>\n",
       "<table border=\"1\" class=\"dataframe\">\n",
       "  <thead>\n",
       "    <tr style=\"text-align: right;\">\n",
       "      <th></th>\n",
       "      <th>Room N</th>\n",
       "      <th>Type</th>\n",
       "      <th>Area</th>\n",
       "      <th>Floor</th>\n",
       "      <th>City</th>\n",
       "      <th>Price for m2 US</th>\n",
       "      <th>Price for m2 SOM</th>\n",
       "      <th>Price USD</th>\n",
       "      <th>Price SOM</th>\n",
       "    </tr>\n",
       "  </thead>\n",
       "  <tbody>\n",
       "    <tr>\n",
       "      <th>0</th>\n",
       "      <td>3</td>\n",
       "      <td>0</td>\n",
       "      <td>83.00</td>\n",
       "      <td>5</td>\n",
       "      <td>0</td>\n",
       "      <td>849</td>\n",
       "      <td>272028</td>\n",
       "      <td>70500</td>\n",
       "      <td>5978344</td>\n",
       "    </tr>\n",
       "    <tr>\n",
       "      <th>1</th>\n",
       "      <td>1</td>\n",
       "      <td>0</td>\n",
       "      <td>48.00</td>\n",
       "      <td>9</td>\n",
       "      <td>0</td>\n",
       "      <td>760</td>\n",
       "      <td>244166</td>\n",
       "      <td>25000</td>\n",
       "      <td>2119980</td>\n",
       "    </tr>\n",
       "    <tr>\n",
       "      <th>2</th>\n",
       "      <td>2</td>\n",
       "      <td>0</td>\n",
       "      <td>53.00</td>\n",
       "      <td>5</td>\n",
       "      <td>0</td>\n",
       "      <td>631</td>\n",
       "      <td>257599</td>\n",
       "      <td>36000</td>\n",
       "      <td>3052771</td>\n",
       "    </tr>\n",
       "    <tr>\n",
       "      <th>3</th>\n",
       "      <td>2</td>\n",
       "      <td>0</td>\n",
       "      <td>43.00</td>\n",
       "      <td>4</td>\n",
       "      <td>0</td>\n",
       "      <td>863</td>\n",
       "      <td>268037</td>\n",
       "      <td>34500</td>\n",
       "      <td>2925572</td>\n",
       "    </tr>\n",
       "    <tr>\n",
       "      <th>4</th>\n",
       "      <td>2</td>\n",
       "      <td>0</td>\n",
       "      <td>43.00</td>\n",
       "      <td>4</td>\n",
       "      <td>0</td>\n",
       "      <td>907</td>\n",
       "      <td>271981</td>\n",
       "      <td>36500</td>\n",
       "      <td>3095171</td>\n",
       "    </tr>\n",
       "    <tr>\n",
       "      <th>...</th>\n",
       "      <td>...</td>\n",
       "      <td>...</td>\n",
       "      <td>...</td>\n",
       "      <td>...</td>\n",
       "      <td>...</td>\n",
       "      <td>...</td>\n",
       "      <td>...</td>\n",
       "      <td>...</td>\n",
       "      <td>...</td>\n",
       "    </tr>\n",
       "    <tr>\n",
       "      <th>385</th>\n",
       "      <td>3</td>\n",
       "      <td>0</td>\n",
       "      <td>70.00</td>\n",
       "      <td>5</td>\n",
       "      <td>1</td>\n",
       "      <td>488</td>\n",
       "      <td>238160</td>\n",
       "      <td>31500</td>\n",
       "      <td>2671175</td>\n",
       "    </tr>\n",
       "    <tr>\n",
       "      <th>386</th>\n",
       "      <td>3</td>\n",
       "      <td>0</td>\n",
       "      <td>88.00</td>\n",
       "      <td>2</td>\n",
       "      <td>1</td>\n",
       "      <td>510</td>\n",
       "      <td>238545</td>\n",
       "      <td>40000</td>\n",
       "      <td>3391968</td>\n",
       "    </tr>\n",
       "    <tr>\n",
       "      <th>387</th>\n",
       "      <td>2</td>\n",
       "      <td>0</td>\n",
       "      <td>53.00</td>\n",
       "      <td>2</td>\n",
       "      <td>1</td>\n",
       "      <td>435</td>\n",
       "      <td>255996</td>\n",
       "      <td>35000</td>\n",
       "      <td>2967797</td>\n",
       "    </tr>\n",
       "    <tr>\n",
       "      <th>388</th>\n",
       "      <td>3</td>\n",
       "      <td>0</td>\n",
       "      <td>60.00</td>\n",
       "      <td>1</td>\n",
       "      <td>1</td>\n",
       "      <td>6</td>\n",
       "      <td>245226</td>\n",
       "      <td>32000</td>\n",
       "      <td>2713574</td>\n",
       "    </tr>\n",
       "    <tr>\n",
       "      <th>389</th>\n",
       "      <td>1</td>\n",
       "      <td>0</td>\n",
       "      <td>48.12</td>\n",
       "      <td>1</td>\n",
       "      <td>1</td>\n",
       "      <td>313</td>\n",
       "      <td>249343</td>\n",
       "      <td>28000</td>\n",
       "      <td>2374378</td>\n",
       "    </tr>\n",
       "  </tbody>\n",
       "</table>\n",
       "<p>389 rows × 9 columns</p>\n",
       "</div>"
      ],
      "text/plain": [
       "     Room N  Type   Area  Floor  City  Price for m2 US  Price for m2 SOM  \\\n",
       "0         3     0  83.00      5     0              849            272028   \n",
       "1         1     0  48.00      9     0              760            244166   \n",
       "2         2     0  53.00      5     0              631            257599   \n",
       "3         2     0  43.00      4     0              863            268037   \n",
       "4         2     0  43.00      4     0              907            271981   \n",
       "..      ...   ...    ...    ...   ...              ...               ...   \n",
       "385       3     0  70.00      5     1              488            238160   \n",
       "386       3     0  88.00      2     1              510            238545   \n",
       "387       2     0  53.00      2     1              435            255996   \n",
       "388       3     0  60.00      1     1                6            245226   \n",
       "389       1     0  48.12      1     1              313            249343   \n",
       "\n",
       "     Price USD  Price SOM  \n",
       "0        70500    5978344  \n",
       "1        25000    2119980  \n",
       "2        36000    3052771  \n",
       "3        34500    2925572  \n",
       "4        36500    3095171  \n",
       "..         ...        ...  \n",
       "385      31500    2671175  \n",
       "386      40000    3391968  \n",
       "387      35000    2967797  \n",
       "388      32000    2713574  \n",
       "389      28000    2374378  \n",
       "\n",
       "[389 rows x 9 columns]"
      ]
     },
     "execution_count": 336,
     "metadata": {},
     "output_type": "execute_result"
    }
   ],
   "source": [
    "df3"
   ]
  },
  {
   "cell_type": "code",
   "execution_count": 341,
   "id": "60a3513e",
   "metadata": {},
   "outputs": [
    {
     "data": {
      "text/plain": [
       "53808.64824120603"
      ]
     },
     "execution_count": 341,
     "metadata": {},
     "output_type": "execute_result"
    }
   ],
   "source": [
    "df3[(df3[\"City\"]==0)] [\"Price USD\"].mean()"
   ]
  },
  {
   "cell_type": "code",
   "execution_count": 342,
   "id": "7fa56bdf",
   "metadata": {},
   "outputs": [
    {
     "data": {
      "text/plain": [
       "275475.2110552764"
      ]
     },
     "execution_count": 342,
     "metadata": {},
     "output_type": "execute_result"
    }
   ],
   "source": [
    "df3[(df3[\"City\"]==0)] [\"Price for m2 SOM\"].mean()"
   ]
  },
  {
   "cell_type": "code",
   "execution_count": 343,
   "id": "580041dc",
   "metadata": {},
   "outputs": [
    {
     "data": {
      "text/plain": [
       "31000.0"
      ]
     },
     "execution_count": 343,
     "metadata": {},
     "output_type": "execute_result"
    }
   ],
   "source": [
    "df3[(df3[\"City\"]==1)] [\"Price USD\"].mean()"
   ]
  },
  {
   "cell_type": "code",
   "execution_count": 350,
   "id": "7a8c8020",
   "metadata": {},
   "outputs": [
    {
     "data": {
      "text/plain": [
       "427.9"
      ]
     },
     "execution_count": 350,
     "metadata": {},
     "output_type": "execute_result"
    }
   ],
   "source": [
    "df3[(df3[\"City\"]==1)] [\"Price for m2 US\"].mean()"
   ]
  },
  {
   "cell_type": "code",
   "execution_count": 346,
   "id": "e42a61dc",
   "metadata": {},
   "outputs": [
    {
     "data": {
      "text/plain": [
       "23500.0"
      ]
     },
     "execution_count": 346,
     "metadata": {},
     "output_type": "execute_result"
    }
   ],
   "source": [
    "df3[(df3[\"City\"]==2)] [\"Price USD\"].mean()"
   ]
  },
  {
   "cell_type": "code",
   "execution_count": 347,
   "id": "20d5d4f5",
   "metadata": {},
   "outputs": [
    {
     "data": {
      "text/plain": [
       "815.0"
      ]
     },
     "execution_count": 347,
     "metadata": {},
     "output_type": "execute_result"
    }
   ],
   "source": [
    "df3[(df3[\"City\"]==2)] [\"Price for m2 US\"].mean()"
   ]
  },
  {
   "cell_type": "code",
   "execution_count": 352,
   "id": "4abc5fc8",
   "metadata": {},
   "outputs": [
    {
     "data": {
      "text/plain": [
       "36146.50314465409"
      ]
     },
     "execution_count": 352,
     "metadata": {},
     "output_type": "execute_result"
    }
   ],
   "source": [
    "df3[(df3[\"City\"]==3)] [\"Price USD\"].mean()"
   ]
  },
  {
   "cell_type": "code",
   "execution_count": 353,
   "id": "f09901f6",
   "metadata": {},
   "outputs": [
    {
     "data": {
      "text/plain": [
       "609.3836477987421"
      ]
     },
     "execution_count": 353,
     "metadata": {},
     "output_type": "execute_result"
    }
   ],
   "source": [
    "df3[(df3[\"City\"]==3)] [\"Price for m2 US\"].mean()"
   ]
  },
  {
   "cell_type": "code",
   "execution_count": 354,
   "id": "5707c509",
   "metadata": {},
   "outputs": [
    {
     "data": {
      "text/plain": [
       "27900.0"
      ]
     },
     "execution_count": 354,
     "metadata": {},
     "output_type": "execute_result"
    }
   ],
   "source": [
    "df3[(df3[\"City\"]==4)] [\"Price USD\"].mean()"
   ]
  },
  {
   "cell_type": "code",
   "execution_count": 355,
   "id": "8d5858a0",
   "metadata": {},
   "outputs": [
    {
     "data": {
      "text/plain": [
       "610.8"
      ]
     },
     "execution_count": 355,
     "metadata": {},
     "output_type": "execute_result"
    }
   ],
   "source": [
    "df3[(df3[\"City\"]==4)] [\"Price for m2 US\"].mean()"
   ]
  },
  {
   "cell_type": "code",
   "execution_count": 358,
   "id": "9095ff61",
   "metadata": {},
   "outputs": [
    {
     "data": {
      "text/plain": [
       "22808.64824120603"
      ]
     },
     "execution_count": 358,
     "metadata": {},
     "output_type": "execute_result"
    }
   ],
   "source": [
    "df3[(df3[\"City\"]==0)] [\"Price USD\"].mean()- df3[(df3[\"City\"]==1)] [\"Price USD\"].mean()"
   ]
  },
  {
   "cell_type": "code",
   "execution_count": 359,
   "id": "dd4a105a",
   "metadata": {},
   "outputs": [],
   "source": [
    "import numpy as np\n",
    "import matplotlib.pyplot as plt"
   ]
  },
  {
   "cell_type": "code",
   "execution_count": 360,
   "id": "2f0173e6",
   "metadata": {},
   "outputs": [],
   "source": [
    "importances = RandomForest.feature_importances_"
   ]
  },
  {
   "cell_type": "code",
   "execution_count": 361,
   "id": "7f9f4352",
   "metadata": {},
   "outputs": [],
   "source": [
    "indices = np.argsort(importances)[::-1]\n",
    "names = [x_train.columns.values[i] for i in indices]"
   ]
  },
  {
   "cell_type": "code",
   "execution_count": 362,
   "id": "9b1bfc8a",
   "metadata": {},
   "outputs": [
    {
     "data": {
      "image/png": "[encoded data removed]",
      "text/plain": [
       "<Figure size 432x288 with 1 Axes>"
      ]
     },
     "metadata": {
      "needs_background": "light"
     },
     "output_type": "display_data"
    }
   ],
   "source": [
    "plt.figure()\n",
    "\n",
    "# Title\n",
    "plt.title(\"Important features\")\n",
    "\n",
    "# Bar\n",
    "plt.bar(range(x_train.shape[1]), importances[indices])\n",
    "\n",
    "# x Axes names\n",
    "plt.xticks(range(x_train.shape[1]), names, rotation=90)\n",
    "\n",
    "# Show\n",
    "plt.show ()"
   ]
  },
  {
   "cell_type": "code",
   "execution_count": null,
   "id": "99cd3f3b",
   "metadata": {},
   "outputs": [],
   "source": []
  }
 ],
 "metadata": {
  "kernelspec": {
   "display_name": "Python 3 (ipykernel)",
   "language": "python",
   "name": "python3"
  },
  "language_info": {
   "codemirror_mode": {
    "name": "ipython",
    "version": 3
   },
   "file_extension": ".py",
   "mimetype": "text/x-python",
   "name": "python",
   "nbconvert_exporter": "python",
   "pygments_lexer": "ipython3",
   "version": "3.11.7"
  }
 },
 "nbformat": 4,
 "nbformat_minor": 5
}
