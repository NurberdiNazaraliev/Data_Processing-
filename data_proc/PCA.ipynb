{
 "cells": [
  {
   "cell_type": "markdown",
   "id": "ee29fb15",
   "metadata": {},
   "source": [
    "\n",
    "# Principal Component Analysis\n",
    "\n",
    "---"
   ]
  },
  {
   "cell_type": "markdown",
   "id": "de25f054",
   "metadata": {},
   "source": [
    "![MathUrl](https://c.tenor.com/ZcWPZGLvilUAAAAd/and-thats-a-lot-of-math-math.gif \"math\")\n"
   ]
  },
  {
   "cell_type": "markdown",
   "id": "ab9b7991",
   "metadata": {},
   "source": [
    "---\n",
    "## “Last time I asked: 'What does mathematics mean to you?', and some people answered: \"The manipulation of numbers, the manipulation of structures.' And if I had asked what music means to you, would you have answered: 'The manipulation of notes?”\n",
    "\n",
    "### Serge Lang\n",
    "---"
   ]
  },
  {
   "cell_type": "code",
   "execution_count": 1,
   "id": "155583b0",
   "metadata": {},
   "outputs": [],
   "source": [
    "import numpy as np\n",
    "import matplotlib.pyplot as plt"
   ]
  },
  {
   "cell_type": "code",
   "execution_count": 2,
   "id": "f610feb4",
   "metadata": {},
   "outputs": [],
   "source": [
    "X = np.array([[1, 2.38], \n",
    "             [2, 2.49], \n",
    "             [3, 5.89], \n",
    "             [4, 8.25], \n",
    "             [5, 11.83],\n",
    "             [6, 11.40], \n",
    "             [7, 12.68], \n",
    "             [8, 17.82], \n",
    "             [9, 15.03], \n",
    "             [10, 20.42]\n",
    "            ])"
   ]
  },
  {
   "cell_type": "markdown",
   "id": "a884e361",
   "metadata": {},
   "source": [
    "### Demean the data"
   ]
  },
  {
   "cell_type": "code",
   "execution_count": 3,
   "id": "3391813b",
   "metadata": {},
   "outputs": [],
   "source": [
    "X[:,0] = X[:,0] - X[:,0].mean()\n",
    "X[:,1] = X[:,1] - X[:,1].mean()"
   ]
  },
  {
   "cell_type": "code",
   "execution_count": 4,
   "id": "ff3e9369",
   "metadata": {
    "scrolled": true
   },
   "outputs": [
    {
     "data": {
      "image/png": "[encoded data removed]",
      "text/plain": [
       "<Figure size 432x288 with 1 Axes>"
      ]
     },
     "metadata": {
      "needs_background": "light"
     },
     "output_type": "display_data"
    }
   ],
   "source": [
    "plt.scatter(X[:,0], X[:,1], c = 'r');\n",
    "plt.xlim([-15, 15]);\n",
    "plt.ylim([-15, 15]);\n",
    "plt.grid();"
   ]
  },
  {
   "cell_type": "markdown",
   "id": "0feb79d6",
   "metadata": {},
   "source": [
    "### Calculate the covariance matrix of x1 and x2"
   ]
  },
  {
   "cell_type": "code",
   "execution_count": 5,
   "id": "ae5da691",
   "metadata": {},
   "outputs": [
    {
     "data": {
      "text/plain": [
       "array([[ 9.17, 17.92],\n",
       "       [17.92, 37.25]])"
      ]
     },
     "execution_count": 5,
     "metadata": {},
     "output_type": "execute_result"
    }
   ],
   "source": [
    "C = np.cov(X[:,0], X[:,1]).round(decimals = 2)\n",
    "C"
   ]
  },
  {
   "cell_type": "markdown",
   "id": "6967ea48",
   "metadata": {},
   "source": [
    "### Show the Explained Variance of every feature (x) in percentage from total variance"
   ]
  },
  {
   "cell_type": "code",
   "execution_count": 6,
   "id": "d10926ec",
   "metadata": {},
   "outputs": [],
   "source": [
    "x1_var = C[0][0]\n",
    "x2_var = C[1][1]\n",
    "total_var = x1_var + x2_var "
   ]
  },
  {
   "cell_type": "code",
   "execution_count": 15,
   "id": "a2e58a1a",
   "metadata": {},
   "outputs": [],
   "source": [
    "# print your solution\n",
    "k=x1_var/total_var\n",
    "k2=x2_var/total_var"
   ]
  },
  {
   "cell_type": "code",
   "execution_count": 16,
   "id": "02883289",
   "metadata": {},
   "outputs": [
    {
     "data": {
      "text/plain": [
       "<BarContainer object of 2 artists>"
      ]
     },
     "execution_count": 16,
     "metadata": {},
     "output_type": "execute_result"
    },
    {
     "data": {
      "image/png": "[encoded data removed]",
      "text/plain": [
       "<Figure size 432x288 with 1 Axes>"
      ]
     },
     "metadata": {
      "needs_background": "light"
     },
     "output_type": "display_data"
    }
   ],
   "source": [
    "# show the barchart of Explained Variance percentages\n",
    "\n",
    "\n",
    "plt.bar(x= [\"x1\", \"x2\"], height = [k, k2], color= \"y\")"
   ]
  },
  {
   "cell_type": "markdown",
   "id": "a3031700",
   "metadata": {},
   "source": [
    "### Calculate the eigenvectors and eigenvalues of covariance matrix\n",
    "HINT: use the numpy.linalg.eig() function\n",
    "\n",
    "[Best explanation](https://www.youtube.com/watch?v=PFDu9oVAE-g)"
   ]
  },
  {
   "cell_type": "code",
   "execution_count": null,
   "id": "67a7c7b6",
   "metadata": {},
   "outputs": [],
   "source": []
  },
  {
   "cell_type": "code",
   "execution_count": 23,
   "id": "1a6bdf5e",
   "metadata": {},
   "outputs": [],
   "source": [
    "EigenValues, V = np.linalg.eig(C)"
   ]
  },
  {
   "cell_type": "code",
   "execution_count": 24,
   "id": "f9aa6974",
   "metadata": {},
   "outputs": [
    {
     "data": {
      "text/plain": [
       "array([[-0.89909248, -0.43775874],\n",
       "       [ 0.43775874, -0.89909248]])"
      ]
     },
     "execution_count": 24,
     "metadata": {},
     "output_type": "execute_result"
    }
   ],
   "source": [
    "V"
   ]
  },
  {
   "cell_type": "markdown",
   "id": "85760d8d",
   "metadata": {},
   "source": [
    "### Sort the Eigenvalues from max to min"
   ]
  },
  {
   "cell_type": "code",
   "execution_count": 25,
   "id": "2ce92cce",
   "metadata": {},
   "outputs": [],
   "source": [
    "ord = np.argsort(EigenValues[::-1])"
   ]
  },
  {
   "cell_type": "markdown",
   "id": "62cda507",
   "metadata": {},
   "source": [
    "### Sort the Eigenvector columns like the Eigenvalues (same order)"
   ]
  },
  {
   "cell_type": "code",
   "execution_count": 26,
   "id": "eaf03054",
   "metadata": {},
   "outputs": [],
   "source": [
    "V = V[:, ord]"
   ]
  },
  {
   "cell_type": "markdown",
   "id": "92d8bf6f",
   "metadata": {},
   "source": [
    "### To find the new Principal Components multiply the matrix of X to Eigenvectors"
   ]
  },
  {
   "cell_type": "code",
   "execution_count": 27,
   "id": "7e81520a",
   "metadata": {},
   "outputs": [],
   "source": [
    "X_new = np.matmul(X, V)"
   ]
  },
  {
   "cell_type": "code",
   "execution_count": 28,
   "id": "ed099e35",
   "metadata": {},
   "outputs": [
    {
     "data": {
      "text/plain": [
       "array([[  9.55735576,   0.35167012],\n",
       "       [  9.02069685,  -0.49926889],\n",
       "       [  5.52602368,   0.09001835],\n",
       "       [  2.96640669,   0.22403651],\n",
       "       [ -0.69010312,   0.89212033],\n",
       "       [ -0.7412521 ,  -0.19520841],\n",
       "       [ -2.32984921,  -0.5339697 ],\n",
       "       [ -7.38894329,   0.81701776],\n",
       "       [ -5.31823402,  -1.30342161],\n",
       "       [-10.60210122,   0.15700554]])"
      ]
     },
     "execution_count": 28,
     "metadata": {},
     "output_type": "execute_result"
    }
   ],
   "source": [
    "X_new"
   ]
  },
  {
   "cell_type": "markdown",
   "id": "a6e9273e",
   "metadata": {},
   "source": [
    "### Calculate the covariance matrix of obtained Principal Components"
   ]
  },
  {
   "cell_type": "code",
   "execution_count": 29,
   "id": "6aac3077",
   "metadata": {},
   "outputs": [],
   "source": [
    "r=np.cov(X_new[:,0], X_new[:,1]).round(decimals = 2)"
   ]
  },
  {
   "cell_type": "markdown",
   "id": "7f7ca091",
   "metadata": {},
   "source": [
    "### Calculate the Explained Variance of every PC in percentage"
   ]
  },
  {
   "cell_type": "code",
   "execution_count": 30,
   "id": "a888f750",
   "metadata": {},
   "outputs": [],
   "source": [
    "# print your solution\n",
    "x1_var = r[0][0]\n",
    "x2_var = r[1][1]\n",
    "total_var = x1_var + x2_var "
   ]
  },
  {
   "cell_type": "code",
   "execution_count": 31,
   "id": "6a2cc088",
   "metadata": {},
   "outputs": [],
   "source": [
    "k=x1_var/total_var\n",
    "k2=x2_var/total_var"
   ]
  },
  {
   "cell_type": "code",
   "execution_count": 32,
   "id": "4357116d",
   "metadata": {},
   "outputs": [
    {
     "data": {
      "text/plain": [
       "<BarContainer object of 2 artists>"
      ]
     },
     "execution_count": 32,
     "metadata": {},
     "output_type": "execute_result"
    },
    {
     "data": {
      "image/png": "[encoded data removed]",
      "text/plain": [
       "<Figure size 432x288 with 1 Axes>"
      ]
     },
     "metadata": {
      "needs_background": "light"
     },
     "output_type": "display_data"
    }
   ],
   "source": [
    "# show the barchart of Explained Variance percentages\n",
    "plt.bar(x= [\"x1\", \"x2\"], height = [k, k2], color= \"y\")"
   ]
  },
  {
   "cell_type": "markdown",
   "id": "be5f9a66",
   "metadata": {},
   "source": [
    "### Plot the scatter plot of PCs"
   ]
  },
  {
   "cell_type": "code",
   "execution_count": 85,
   "id": "be717d76",
   "metadata": {},
   "outputs": [
    {
     "data": {
      "image/png": "[encoded data removed]",
      "text/plain": [
       "<Figure size 432x288 with 1 Axes>"
      ]
     },
     "metadata": {
      "needs_background": "light"
     },
     "output_type": "display_data"
    }
   ],
   "source": [
    "plt.scatter(X_new[:,0], X_new[:,1]);\n",
    "plt.xlim([-15, 15]);\n",
    "plt.ylim([-15, 15]);\n",
    "plt.grid();"
   ]
  },
  {
   "cell_type": "markdown",
   "id": "20eb0dfe",
   "metadata": {},
   "source": [
    "### Try to use sklearn PCA algorithm and compare the results."
   ]
  },
  {
   "cell_type": "code",
   "execution_count": 25,
   "id": "c909626a",
   "metadata": {},
   "outputs": [],
   "source": [
    "from sklearn.decomposition import PCA"
   ]
  },
  {
   "cell_type": "code",
   "execution_count": 26,
   "id": "93398ae9",
   "metadata": {},
   "outputs": [],
   "source": [
    "X_pred = PCA().fit_transform(X)"
   ]
  },
  {
   "cell_type": "code",
   "execution_count": 30,
   "id": "44f8c605",
   "metadata": {},
   "outputs": [
    {
     "data": {
      "text/plain": [
       "array([[45.98,  0.  ],\n",
       "       [ 0.  ,  0.44]])"
      ]
     },
     "execution_count": 30,
     "metadata": {},
     "output_type": "execute_result"
    }
   ],
   "source": [
    "np.cov(X_pred[:,0], X_pred[:,1]).round(decimals = 2)"
   ]
  },
  {
   "cell_type": "code",
   "execution_count": 91,
   "id": "ac1f7b21",
   "metadata": {},
   "outputs": [
    {
     "data": {
      "image/png": "[encoded data removed]",
      "text/plain": [
       "<Figure size 432x288 with 1 Axes>"
      ]
     },
     "metadata": {
      "needs_background": "light"
     },
     "output_type": "display_data"
    }
   ],
   "source": [
    "plt.scatter(X_pred[:,0], X_pred[:,1]);\n",
    "plt.xlim([-15, 15]);\n",
    "plt.ylim([-15, 15]);\n",
    "plt.grid();"
   ]
  },
  {
   "cell_type": "markdown",
   "id": "f64a7a01",
   "metadata": {},
   "source": [
    "---\n",
    "# Practice"
   ]
  },
  {
   "cell_type": "code",
   "execution_count": 55,
   "id": "4c00fc94",
   "metadata": {},
   "outputs": [],
   "source": [
    "import pandas as pd\n",
    "from sklearn import preprocessing"
   ]
  },
  {
   "cell_type": "code",
   "execution_count": 56,
   "id": "9c9c94f1",
   "metadata": {},
   "outputs": [
    {
     "data": {
      "text/plain": [
       "(178, 13)"
      ]
     },
     "execution_count": 56,
     "metadata": {},
     "output_type": "execute_result"
    }
   ],
   "source": [
    "df = pd.read_csv('wine-clustering.csv')\n",
    "df.shape"
   ]
  },
  {
   "cell_type": "code",
   "execution_count": 59,
   "id": "3d418953",
   "metadata": {},
   "outputs": [],
   "source": [
    "scaled_data = df.copy().to_numpy()"
   ]
  },
  {
   "cell_type": "code",
   "execution_count": 60,
   "id": "888332c9",
   "metadata": {},
   "outputs": [
    {
     "data": {
      "text/plain": [
       "(178, 13)"
      ]
     },
     "execution_count": 60,
     "metadata": {},
     "output_type": "execute_result"
    }
   ],
   "source": [
    "scaled_data.shape"
   ]
  },
  {
   "cell_type": "markdown",
   "id": "e4e3012d",
   "metadata": {},
   "source": [
    "## Based on this data try to use your own PCA calculations to reduce the dimension. Choose the number of Components based on Variance Explanation Percentage.\n",
    "\n",
    "### Compare the results with sklearn PCA algorithm..."
   ]
  },
  {
   "cell_type": "code",
   "execution_count": 61,
   "id": "c811e185",
   "metadata": {},
   "outputs": [
    {
     "data": {
      "text/plain": [
       "array([[1.423e+01, 1.710e+00, 2.430e+00, ..., 1.040e+00, 3.920e+00,\n",
       "        1.065e+03],\n",
       "       [1.320e+01, 1.780e+00, 2.140e+00, ..., 1.050e+00, 3.400e+00,\n",
       "        1.050e+03],\n",
       "       [1.316e+01, 2.360e+00, 2.670e+00, ..., 1.030e+00, 3.170e+00,\n",
       "        1.185e+03],\n",
       "       ...,\n",
       "       [1.327e+01, 4.280e+00, 2.260e+00, ..., 5.900e-01, 1.560e+00,\n",
       "        8.350e+02],\n",
       "       [1.317e+01, 2.590e+00, 2.370e+00, ..., 6.000e-01, 1.620e+00,\n",
       "        8.400e+02],\n",
       "       [1.413e+01, 4.100e+00, 2.740e+00, ..., 6.100e-01, 1.600e+00,\n",
       "        5.600e+02]])"
      ]
     },
     "execution_count": 61,
     "metadata": {},
     "output_type": "execute_result"
    }
   ],
   "source": [
    "scaled_data"
   ]
  },
  {
   "cell_type": "code",
   "execution_count": 62,
   "id": "afd9a046",
   "metadata": {},
   "outputs": [],
   "source": [
    "for i in range(13):\n",
    "    scaled_data[:,i]=scaled_data[:,i] - scaled_data[:,i].mean()"
   ]
  },
  {
   "cell_type": "code",
   "execution_count": 69,
   "id": "756cb2dc",
   "metadata": {},
   "outputs": [],
   "source": [
    "c2= np.cov(np.transpose(scaled_data)).round(decimals=2)"
   ]
  },
  {
   "cell_type": "code",
   "execution_count": 70,
   "id": "5f80cd31",
   "metadata": {},
   "outputs": [],
   "source": [
    "p=np.diag(c2)"
   ]
  },
  {
   "cell_type": "code",
   "execution_count": 71,
   "id": "70d59a0f",
   "metadata": {},
   "outputs": [],
   "source": [
    "tot_var = sum(p)"
   ]
  },
  {
   "cell_type": "code",
   "execution_count": 72,
   "id": "c3007be9",
   "metadata": {},
   "outputs": [],
   "source": [
    "percentages = [i/tot_var for i in p]\n",
    "name = [f'x{i}' for i in range(1, 14)]"
   ]
  },
  {
   "cell_type": "code",
   "execution_count": 73,
   "id": "af6d2d97",
   "metadata": {},
   "outputs": [
    {
     "data": {
      "text/plain": [
       "<BarContainer object of 13 artists>"
      ]
     },
     "execution_count": 73,
     "metadata": {},
     "output_type": "execute_result"
    },
    {
     "data": {
      "image/png": "[encoded data removed]",
      "text/plain": [
       "<Figure size 432x288 with 1 Axes>"
      ]
     },
     "metadata": {
      "needs_background": "light"
     },
     "output_type": "display_data"
    }
   ],
   "source": [
    "plt.bar(x = name, height = percentages, color = 'y')"
   ]
  },
  {
   "cell_type": "markdown",
   "id": "71daf4e8",
   "metadata": {},
   "source": [
    "### [VIDEO EXPLANATION OF EIGENVECTORS AND EIGENVALUES](https://www.youtube.com/watch?v=PFDu9oVAE-g)"
   ]
  },
  {
   "cell_type": "code",
   "execution_count": null,
   "id": "8994ca64",
   "metadata": {},
   "outputs": [],
   "source": []
  }
 ],
 "metadata": {
  "kernelspec": {
   "display_name": "Python 3 (ipykernel)",
   "language": "python",
   "name": "python3"
  },
  "language_info": {
   "codemirror_mode": {
    "name": "ipython",
    "version": 3
   },
   "file_extension": ".py",
   "mimetype": "text/x-python",
   "name": "python",
   "nbconvert_exporter": "python",
   "pygments_lexer": "ipython3",
   "version": "3.11.7"
  }
 },
 "nbformat": 4,
 "nbformat_minor": 5
}
